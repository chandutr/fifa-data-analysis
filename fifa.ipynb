{
 "cells": [
  {
   "cell_type": "code",
   "execution_count": 1,
   "id": "75c8257d-80b5-4908-a095-eaed59cd8524",
   "metadata": {},
   "outputs": [
    {
     "data": {
      "text/html": [
       "<div>\n",
       "<style scoped>\n",
       "    .dataframe tbody tr th:only-of-type {\n",
       "        vertical-align: middle;\n",
       "    }\n",
       "\n",
       "    .dataframe tbody tr th {\n",
       "        vertical-align: top;\n",
       "    }\n",
       "\n",
       "    .dataframe thead th {\n",
       "        text-align: right;\n",
       "    }\n",
       "</style>\n",
       "<table border=\"1\" class=\"dataframe\">\n",
       "  <thead>\n",
       "    <tr style=\"text-align: right;\">\n",
       "      <th></th>\n",
       "      <th>ID</th>\n",
       "      <th>Name</th>\n",
       "      <th>Age</th>\n",
       "      <th>Photo</th>\n",
       "      <th>Nationality</th>\n",
       "      <th>Flag</th>\n",
       "      <th>Overall</th>\n",
       "      <th>Potential</th>\n",
       "      <th>Club</th>\n",
       "      <th>Club Logo</th>\n",
       "      <th>...</th>\n",
       "      <th>Composure</th>\n",
       "      <th>Marking</th>\n",
       "      <th>StandingTackle</th>\n",
       "      <th>SlidingTackle</th>\n",
       "      <th>GKDiving</th>\n",
       "      <th>GKHandling</th>\n",
       "      <th>GKKicking</th>\n",
       "      <th>GKPositioning</th>\n",
       "      <th>GKReflexes</th>\n",
       "      <th>Release Clause</th>\n",
       "    </tr>\n",
       "  </thead>\n",
       "  <tbody>\n",
       "    <tr>\n",
       "      <th>0</th>\n",
       "      <td>158023</td>\n",
       "      <td>L. Messi</td>\n",
       "      <td>31.0</td>\n",
       "      <td>https://cdn.sofifa.org/players/4/19/158023.png</td>\n",
       "      <td>Argentina</td>\n",
       "      <td>https://cdn.sofifa.org/flags/52.png</td>\n",
       "      <td>94.0</td>\n",
       "      <td>94</td>\n",
       "      <td>FC Barcelona</td>\n",
       "      <td>https://cdn.sofifa.org/teams/2/light/241.png</td>\n",
       "      <td>...</td>\n",
       "      <td>96.0</td>\n",
       "      <td>33.0</td>\n",
       "      <td>28.0</td>\n",
       "      <td>26.0</td>\n",
       "      <td>6.0</td>\n",
       "      <td>11.0</td>\n",
       "      <td>15.0</td>\n",
       "      <td>14.0</td>\n",
       "      <td>8.0</td>\n",
       "      <td>226.5M</td>\n",
       "    </tr>\n",
       "    <tr>\n",
       "      <th>1</th>\n",
       "      <td>20801</td>\n",
       "      <td>Cristiano Ronaldo</td>\n",
       "      <td>33.0</td>\n",
       "      <td>https://cdn.sofifa.org/players/4/19/20801.png</td>\n",
       "      <td>Portugal</td>\n",
       "      <td>https://cdn.sofifa.org/flags/38.png</td>\n",
       "      <td>94.0</td>\n",
       "      <td>94</td>\n",
       "      <td>Juventus</td>\n",
       "      <td>https://cdn.sofifa.org/teams/2/light/45.png</td>\n",
       "      <td>...</td>\n",
       "      <td>95.0</td>\n",
       "      <td>28.0</td>\n",
       "      <td>31.0</td>\n",
       "      <td>23.0</td>\n",
       "      <td>7.0</td>\n",
       "      <td>11.0</td>\n",
       "      <td>15.0</td>\n",
       "      <td>14.0</td>\n",
       "      <td>11.0</td>\n",
       "      <td>127.1M</td>\n",
       "    </tr>\n",
       "    <tr>\n",
       "      <th>2</th>\n",
       "      <td>190871</td>\n",
       "      <td>Neymar Jr</td>\n",
       "      <td>26.0</td>\n",
       "      <td>https://cdn.sofifa.org/players/4/19/190871.png</td>\n",
       "      <td>Brazil</td>\n",
       "      <td>https://cdn.sofifa.org/flags/54.png</td>\n",
       "      <td>92.0</td>\n",
       "      <td>93</td>\n",
       "      <td>Paris Saint-Germain</td>\n",
       "      <td>https://cdn.sofifa.org/teams/2/light/73.png</td>\n",
       "      <td>...</td>\n",
       "      <td>94.0</td>\n",
       "      <td>27.0</td>\n",
       "      <td>24.0</td>\n",
       "      <td>33.0</td>\n",
       "      <td>9.0</td>\n",
       "      <td>9.0</td>\n",
       "      <td>15.0</td>\n",
       "      <td>15.0</td>\n",
       "      <td>11.0</td>\n",
       "      <td>228.1M</td>\n",
       "    </tr>\n",
       "    <tr>\n",
       "      <th>3</th>\n",
       "      <td>193080</td>\n",
       "      <td>De Gea</td>\n",
       "      <td>27.0</td>\n",
       "      <td>https://cdn.sofifa.org/players/4/19/193080.png</td>\n",
       "      <td>Spain</td>\n",
       "      <td>https://cdn.sofifa.org/flags/45.png</td>\n",
       "      <td>91.0</td>\n",
       "      <td>93</td>\n",
       "      <td>Manchester United</td>\n",
       "      <td>https://cdn.sofifa.org/teams/2/light/11.png</td>\n",
       "      <td>...</td>\n",
       "      <td>68.0</td>\n",
       "      <td>15.0</td>\n",
       "      <td>21.0</td>\n",
       "      <td>13.0</td>\n",
       "      <td>90.0</td>\n",
       "      <td>85.0</td>\n",
       "      <td>87.0</td>\n",
       "      <td>88.0</td>\n",
       "      <td>94.0</td>\n",
       "      <td>138.6M</td>\n",
       "    </tr>\n",
       "    <tr>\n",
       "      <th>4</th>\n",
       "      <td>192985</td>\n",
       "      <td>K. De Bruyne</td>\n",
       "      <td>27.0</td>\n",
       "      <td>https://cdn.sofifa.org/players/4/19/192985.png</td>\n",
       "      <td>Belgium</td>\n",
       "      <td>https://cdn.sofifa.org/flags/7.png</td>\n",
       "      <td>91.0</td>\n",
       "      <td>92</td>\n",
       "      <td>Manchester City</td>\n",
       "      <td>https://cdn.sofifa.org/teams/2/light/10.png</td>\n",
       "      <td>...</td>\n",
       "      <td>88.0</td>\n",
       "      <td>68.0</td>\n",
       "      <td>58.0</td>\n",
       "      <td>51.0</td>\n",
       "      <td>15.0</td>\n",
       "      <td>13.0</td>\n",
       "      <td>5.0</td>\n",
       "      <td>10.0</td>\n",
       "      <td>13.0</td>\n",
       "      <td>196.4M</td>\n",
       "    </tr>\n",
       "  </tbody>\n",
       "</table>\n",
       "<p>5 rows × 88 columns</p>\n",
       "</div>"
      ],
      "text/plain": [
       "       ID               Name   Age  \\\n",
       "0  158023           L. Messi  31.0   \n",
       "1   20801  Cristiano Ronaldo  33.0   \n",
       "2  190871          Neymar Jr  26.0   \n",
       "3  193080             De Gea  27.0   \n",
       "4  192985       K. De Bruyne  27.0   \n",
       "\n",
       "                                            Photo Nationality  \\\n",
       "0  https://cdn.sofifa.org/players/4/19/158023.png   Argentina   \n",
       "1   https://cdn.sofifa.org/players/4/19/20801.png    Portugal   \n",
       "2  https://cdn.sofifa.org/players/4/19/190871.png      Brazil   \n",
       "3  https://cdn.sofifa.org/players/4/19/193080.png       Spain   \n",
       "4  https://cdn.sofifa.org/players/4/19/192985.png     Belgium   \n",
       "\n",
       "                                  Flag  Overall  Potential  \\\n",
       "0  https://cdn.sofifa.org/flags/52.png     94.0         94   \n",
       "1  https://cdn.sofifa.org/flags/38.png     94.0         94   \n",
       "2  https://cdn.sofifa.org/flags/54.png     92.0         93   \n",
       "3  https://cdn.sofifa.org/flags/45.png     91.0         93   \n",
       "4   https://cdn.sofifa.org/flags/7.png     91.0         92   \n",
       "\n",
       "                  Club                                     Club Logo  ...  \\\n",
       "0         FC Barcelona  https://cdn.sofifa.org/teams/2/light/241.png  ...   \n",
       "1             Juventus   https://cdn.sofifa.org/teams/2/light/45.png  ...   \n",
       "2  Paris Saint-Germain   https://cdn.sofifa.org/teams/2/light/73.png  ...   \n",
       "3    Manchester United   https://cdn.sofifa.org/teams/2/light/11.png  ...   \n",
       "4      Manchester City   https://cdn.sofifa.org/teams/2/light/10.png  ...   \n",
       "\n",
       "  Composure Marking  StandingTackle SlidingTackle  GKDiving  GKHandling  \\\n",
       "0      96.0    33.0            28.0          26.0       6.0        11.0   \n",
       "1      95.0    28.0            31.0          23.0       7.0        11.0   \n",
       "2      94.0    27.0            24.0          33.0       9.0         9.0   \n",
       "3      68.0    15.0            21.0          13.0      90.0        85.0   \n",
       "4      88.0    68.0            58.0          51.0      15.0        13.0   \n",
       "\n",
       "   GKKicking GKPositioning GKReflexes Release Clause  \n",
       "0       15.0          14.0        8.0        226.5M  \n",
       "1       15.0          14.0       11.0        127.1M  \n",
       "2       15.0          15.0       11.0        228.1M  \n",
       "3       87.0          88.0       94.0        138.6M  \n",
       "4        5.0          10.0       13.0        196.4M  \n",
       "\n",
       "[5 rows x 88 columns]"
      ]
     },
     "execution_count": 1,
     "metadata": {},
     "output_type": "execute_result"
    }
   ],
   "source": [
    "import pandas as pd \n",
    "df=pd.read_csv(r'Fifa.csv', encoding='latin-1', index_col=0)\n",
    "df.head()"
   ]
  },
  {
   "cell_type": "code",
   "execution_count": 2,
   "id": "098e41b9-24ca-477b-8eee-08bd6e535430",
   "metadata": {},
   "outputs": [
    {
     "data": {
      "text/plain": [
       "ID                   0\n",
       "Name                 0\n",
       "Age                  1\n",
       "Photo                0\n",
       "Nationality          0\n",
       "                  ... \n",
       "GKHandling          48\n",
       "GKKicking           48\n",
       "GKPositioning       48\n",
       "GKReflexes          48\n",
       "Release Clause    1564\n",
       "Length: 88, dtype: int64"
      ]
     },
     "execution_count": 2,
     "metadata": {},
     "output_type": "execute_result"
    }
   ],
   "source": [
    "df.isnull().sum()"
   ]
  },
  {
   "cell_type": "code",
   "execution_count": 3,
   "id": "4dde8037-d2db-49e3-919d-76d2b819910b",
   "metadata": {},
   "outputs": [
    {
     "data": {
      "text/plain": [
       "(18207, 88)"
      ]
     },
     "execution_count": 3,
     "metadata": {},
     "output_type": "execute_result"
    }
   ],
   "source": [
    "df.shape"
   ]
  },
  {
   "cell_type": "code",
   "execution_count": 4,
   "id": "5a1e30c6-fbe4-4b45-aec2-3f7d0481bb43",
   "metadata": {},
   "outputs": [
    {
     "data": {
      "text/plain": [
       "Index(['ID', 'Name', 'Age', 'Photo', 'Nationality', 'Flag', 'Overall',\n",
       "       'Potential', 'Club', 'Club Logo', 'Value', 'Wage', 'Special',\n",
       "       'Preferred Foot', 'International Reputation', 'Weak Foot',\n",
       "       'Skill Moves', 'Work Rate', 'Body Type', 'Real Face', 'Position',\n",
       "       'Jersey Number', 'Joined', 'Loaned From', 'Contract Valid Until',\n",
       "       'Height', 'Weight', 'LS', 'ST', 'RS', 'LW', 'LF', 'CF', 'RF', 'RW',\n",
       "       'LAM', 'CAM', 'RAM', 'LM', 'LCM', 'CM', 'RCM', 'RM', 'LWB', 'LDM',\n",
       "       'CDM', 'RDM', 'RWB', 'LB', 'LCB', 'CB', 'RCB', 'RB', 'Crossing',\n",
       "       'Finishing', 'HeadingAccuracy', 'ShortPassing', 'Volleys', 'Dribbling',\n",
       "       'Curve', 'FKAccuracy', 'LongPassing', 'BallControl', 'Acceleration',\n",
       "       'SprintSpeed', 'Agility', 'Reactions', 'Balance', 'ShotPower',\n",
       "       'Jumping', 'Stamina', 'Strength', 'LongShots', 'Aggression',\n",
       "       'Interceptions', 'Positioning', 'Vision', 'Penalties', 'Composure',\n",
       "       'Marking', 'StandingTackle', 'SlidingTackle', 'GKDiving', 'GKHandling',\n",
       "       'GKKicking', 'GKPositioning', 'GKReflexes', 'Release Clause'],\n",
       "      dtype='object')"
      ]
     },
     "execution_count": 4,
     "metadata": {},
     "output_type": "execute_result"
    }
   ],
   "source": [
    "df.columns"
   ]
  },
  {
   "cell_type": "code",
   "execution_count": 5,
   "id": "a7125998-4fe2-4727-a3e0-505b8a387147",
   "metadata": {},
   "outputs": [],
   "source": [
    "df['ShortPassing']=df['ShortPassing'].fillna(df['ShortPassing'].mode()[0]) #[0] is used to access the first (most frequent) value from the mode calculation"
   ]
  },
  {
   "cell_type": "code",
   "execution_count": 6,
   "id": "a0982511-8e24-4a4a-9552-5f422914d5f0",
   "metadata": {},
   "outputs": [
    {
     "data": {
      "text/plain": [
       "ShortPassing\n",
       "64.0    924\n",
       "65.0    789\n",
       "62.0    763\n",
       "63.0    742\n",
       "68.0    735\n",
       "       ... \n",
       "93.0      2\n",
       "92.0      2\n",
       "7.0       2\n",
       "91.0      1\n",
       "8.0       1\n",
       "Name: count, Length: 85, dtype: int64"
      ]
     },
     "execution_count": 6,
     "metadata": {},
     "output_type": "execute_result"
    }
   ],
   "source": [
    "df['ShortPassing'].value_counts()"
   ]
  },
  {
   "cell_type": "code",
   "execution_count": 7,
   "id": "10eac08d-9465-4f35-8ac5-dec884c85862",
   "metadata": {},
   "outputs": [],
   "source": [
    "import warnings\n",
    "warnings.filterwarnings('ignore')"
   ]
  },
  {
   "cell_type": "code",
   "execution_count": 8,
   "id": "9f825fd9-366a-4ca5-aa48-d47764ccf42c",
   "metadata": {},
   "outputs": [],
   "source": [
    "for col in df.columns:\n",
    "    df[col].fillna(df[col].mode()[0],inplace=True)"
   ]
  },
  {
   "cell_type": "code",
   "execution_count": 9,
   "id": "f2b3950f-ece6-482e-868d-a7eb9802aaa5",
   "metadata": {},
   "outputs": [
    {
     "data": {
      "text/plain": [
       "ID                  int64\n",
       "Name               object\n",
       "Age               float64\n",
       "Photo              object\n",
       "Nationality        object\n",
       "                   ...   \n",
       "GKHandling        float64\n",
       "GKKicking         float64\n",
       "GKPositioning     float64\n",
       "GKReflexes        float64\n",
       "Release Clause     object\n",
       "Length: 88, dtype: object"
      ]
     },
     "execution_count": 9,
     "metadata": {},
     "output_type": "execute_result"
    }
   ],
   "source": [
    "df.dtypes"
   ]
  },
  {
   "cell_type": "code",
   "execution_count": 10,
   "id": "c9196c96-5f94-4a9f-8f54-98c87e889801",
   "metadata": {},
   "outputs": [
    {
     "data": {
      "text/plain": [
       "0"
      ]
     },
     "execution_count": 10,
     "metadata": {},
     "output_type": "execute_result"
    }
   ],
   "source": [
    "df.isnull().sum().sum()"
   ]
  },
  {
   "cell_type": "markdown",
   "id": "020898ba-364a-4f23-b4cc-c2e043322761",
   "metadata": {},
   "source": [
    "What is the distribution of preferred root?"
   ]
  },
  {
   "cell_type": "code",
   "execution_count": 11,
   "id": "23dc8ffc-39c5-4b6f-ba4f-1b4f55e08d83",
   "metadata": {},
   "outputs": [
    {
     "data": {
      "text/plain": [
       "Preferred Foot\n",
       "Right    13996\n",
       "Left      4211\n",
       "Name: count, dtype: int64"
      ]
     },
     "execution_count": 11,
     "metadata": {},
     "output_type": "execute_result"
    }
   ],
   "source": [
    "df['Preferred Foot'].value_counts()"
   ]
  },
  {
   "cell_type": "code",
   "execution_count": 12,
   "id": "d1ebb678-2761-43ac-874b-d51485e7bd16",
   "metadata": {},
   "outputs": [
    {
     "data": {
      "text/plain": [
       "Index(['Right', 'Left'], dtype='object', name='Preferred Foot')"
      ]
     },
     "execution_count": 12,
     "metadata": {},
     "output_type": "execute_result"
    }
   ],
   "source": [
    "import matplotlib.pyplot as plt\n",
    "labels=df['Preferred Foot'].value_counts().index\n",
    "labels"
   ]
  },
  {
   "cell_type": "code",
   "execution_count": 13,
   "id": "86e484f7-67d4-4101-b1d1-a12acf978bac",
   "metadata": {},
   "outputs": [
    {
     "data": {
      "text/plain": [
       "array([13996,  4211], dtype=int64)"
      ]
     },
     "execution_count": 13,
     "metadata": {},
     "output_type": "execute_result"
    }
   ],
   "source": [
    "sizes=df['Preferred Foot'].value_counts().values\n",
    "sizes"
   ]
  },
  {
   "cell_type": "code",
   "execution_count": 14,
   "id": "8d8bd542-54e4-4eb6-ae08-13d6b3df7971",
   "metadata": {},
   "outputs": [
    {
     "data": {
      "image/png": "[encoded data removed]",
      "text/plain": [
       "<Figure size 640x480 with 1 Axes>"
      ]
     },
     "metadata": {},
     "output_type": "display_data"
    }
   ],
   "source": [
    "plt.pie(sizes, labels=labels, autopct='%0.1f%%', colors=['red','blue'], explode=[0.05,0.05])\n",
    "plt.legend()\n",
    "plt.title(\"Distribution of Preferred Root\")\n",
    "plt.show()"
   ]
  },
  {
   "cell_type": "markdown",
   "id": "dd530839-e531-4942-a7ae-bd76fadda5d1",
   "metadata": {},
   "source": [
    "What is the distribution of Weak Foot?"
   ]
  },
  {
   "cell_type": "code",
   "execution_count": 15,
   "id": "3cd6de3a-4e7a-41b8-bbc9-ed0588b2e7fc",
   "metadata": {},
   "outputs": [
    {
     "data": {
      "text/plain": [
       "Weak Foot\n",
       "3.0    11397\n",
       "2.0     3761\n",
       "4.0     2662\n",
       "5.0      229\n",
       "1.0      158\n",
       "Name: count, dtype: int64"
      ]
     },
     "execution_count": 15,
     "metadata": {},
     "output_type": "execute_result"
    }
   ],
   "source": [
    "df['Weak Foot'].value_counts()"
   ]
  },
  {
   "cell_type": "code",
   "execution_count": 16,
   "id": "7c526782-abc8-455b-bc95-9424f06dde4b",
   "metadata": {},
   "outputs": [
    {
     "data": {
      "text/plain": [
       "Index([3.0, 2.0, 4.0, 5.0, 1.0], dtype='float64', name='Weak Foot')"
      ]
     },
     "execution_count": 16,
     "metadata": {},
     "output_type": "execute_result"
    }
   ],
   "source": [
    "labels=df['Weak Foot'].value_counts().index\n",
    "labels"
   ]
  },
  {
   "cell_type": "code",
   "execution_count": 17,
   "id": "d2d06e0c-d5a5-463b-994d-c671bef84bc1",
   "metadata": {},
   "outputs": [
    {
     "data": {
      "text/plain": [
       "array([11397,  3761,  2662,   229,   158], dtype=int64)"
      ]
     },
     "execution_count": 17,
     "metadata": {},
     "output_type": "execute_result"
    }
   ],
   "source": [
    "sizes=df['Weak Foot'].value_counts().values\n",
    "sizes"
   ]
  },
  {
   "cell_type": "code",
   "execution_count": 18,
   "id": "23a883cf-1b1a-4e51-9677-871a955721fa",
   "metadata": {},
   "outputs": [
    {
     "data": {
      "image/png": "[encoded data removed]",
      "text/plain": [
       "<Figure size 2800x800 with 1 Axes>"
      ]
     },
     "metadata": {},
     "output_type": "display_data"
    }
   ],
   "source": [
    "plt.rcParams['figure.figsize']=(28,8)\n",
    "plt.pie(sizes, labels=labels, autopct='%0.1f%%', explode=[0.05,0.1,0.05,0.2,0.2])\n",
    "plt.legend()\n",
    "plt.title(\"Distribution of Weak Foot\")\n",
    "plt.show()"
   ]
  },
  {
   "cell_type": "markdown",
   "id": "bbebff3c-f7fb-4cd1-b25f-8fdc24ebfb24",
   "metadata": {},
   "source": [
    "How can we visualize the age distribution of players"
   ]
  },
  {
   "cell_type": "code",
   "execution_count": 19,
   "id": "fe34a2dd-dc1a-478e-98f9-ab6ad928561f",
   "metadata": {},
   "outputs": [
    {
     "data": {
      "text/plain": [
       "Index(['ID', 'Name', 'Age', 'Photo', 'Nationality', 'Flag', 'Overall',\n",
       "       'Potential', 'Club', 'Club Logo', 'Value', 'Wage', 'Special',\n",
       "       'Preferred Foot', 'International Reputation', 'Weak Foot',\n",
       "       'Skill Moves', 'Work Rate', 'Body Type', 'Real Face', 'Position',\n",
       "       'Jersey Number', 'Joined', 'Loaned From', 'Contract Valid Until',\n",
       "       'Height', 'Weight', 'LS', 'ST', 'RS', 'LW', 'LF', 'CF', 'RF', 'RW',\n",
       "       'LAM', 'CAM', 'RAM', 'LM', 'LCM', 'CM', 'RCM', 'RM', 'LWB', 'LDM',\n",
       "       'CDM', 'RDM', 'RWB', 'LB', 'LCB', 'CB', 'RCB', 'RB', 'Crossing',\n",
       "       'Finishing', 'HeadingAccuracy', 'ShortPassing', 'Volleys', 'Dribbling',\n",
       "       'Curve', 'FKAccuracy', 'LongPassing', 'BallControl', 'Acceleration',\n",
       "       'SprintSpeed', 'Agility', 'Reactions', 'Balance', 'ShotPower',\n",
       "       'Jumping', 'Stamina', 'Strength', 'LongShots', 'Aggression',\n",
       "       'Interceptions', 'Positioning', 'Vision', 'Penalties', 'Composure',\n",
       "       'Marking', 'StandingTackle', 'SlidingTackle', 'GKDiving', 'GKHandling',\n",
       "       'GKKicking', 'GKPositioning', 'GKReflexes', 'Release Clause'],\n",
       "      dtype='object')"
      ]
     },
     "execution_count": 19,
     "metadata": {},
     "output_type": "execute_result"
    }
   ],
   "source": [
    "df.columns"
   ]
  },
  {
   "cell_type": "code",
   "execution_count": 20,
   "id": "194252f5-4b56-46fa-ab33-c065021b12f8",
   "metadata": {},
   "outputs": [
    {
     "data": {
      "text/plain": [
       "dtype('float64')"
      ]
     },
     "execution_count": 20,
     "metadata": {},
     "output_type": "execute_result"
    }
   ],
   "source": [
    "df['Age'].dtypes"
   ]
  },
  {
   "cell_type": "code",
   "execution_count": 21,
   "id": "a761a671-2565-4595-a993-b8dcda9d5325",
   "metadata": {},
   "outputs": [
    {
     "data": {
      "text/plain": [
       "<bound method IndexOpsMixin.value_counts of 0        31.0\n",
       "1        33.0\n",
       "2        26.0\n",
       "3        27.0\n",
       "4        27.0\n",
       "         ... \n",
       "18202    19.0\n",
       "18203    19.0\n",
       "18204    16.0\n",
       "18205    17.0\n",
       "18206    16.0\n",
       "Name: Age, Length: 18207, dtype: float64>"
      ]
     },
     "execution_count": 21,
     "metadata": {},
     "output_type": "execute_result"
    }
   ],
   "source": [
    "df['Age'].value_counts"
   ]
  },
  {
   "cell_type": "code",
   "execution_count": 22,
   "id": "68ec47b4-3872-47e7-8ae2-724aef9b4d1c",
   "metadata": {},
   "outputs": [
    {
     "data": {
      "text/plain": [
       "Age\n",
       "16.0      42\n",
       "17.0     289\n",
       "18.0     732\n",
       "19.0    1024\n",
       "20.0    1240\n",
       "21.0    1424\n",
       "22.0    1340\n",
       "23.0    1332\n",
       "24.0    1358\n",
       "25.0    1319\n",
       "26.0    1387\n",
       "27.0    1162\n",
       "28.0    1100\n",
       "29.0     959\n",
       "30.0     917\n",
       "31.0     707\n",
       "32.0     574\n",
       "33.0     408\n",
       "34.0     404\n",
       "35.0     196\n",
       "36.0     127\n",
       "37.0      82\n",
       "38.0      37\n",
       "39.0      25\n",
       "40.0      13\n",
       "41.0       5\n",
       "42.0       1\n",
       "44.0       2\n",
       "45.0       1\n",
       "Name: count, dtype: int64"
      ]
     },
     "execution_count": 22,
     "metadata": {},
     "output_type": "execute_result"
    }
   ],
   "source": [
    "x=df['Age'].value_counts().sort_index()\n",
    "x"
   ]
  },
  {
   "cell_type": "code",
   "execution_count": 23,
   "id": "08cb3e99-e763-44fe-9649-c485dae1f1ae",
   "metadata": {},
   "outputs": [
    {
     "data": {
      "image/png": "[encoded data removed]",
      "text/plain": [
       "<Figure size 1500x500 with 1 Axes>"
      ]
     },
     "metadata": {},
     "output_type": "display_data"
    }
   ],
   "source": [
    "plt.rcParams['figure.figsize']=(15,5)\n",
    "plt.bar(x.index,x.values, color='red')\n",
    "plt.xticks(x.index)\n",
    "plt.xlabel('Age')\n",
    "plt.ylabel('Count')\n",
    "plt.title('Distributin of Players')\n",
    "plt.show()"
   ]
  },
  {
   "cell_type": "code",
   "execution_count": 24,
   "id": "97605211-5af7-461c-8831-27c2e6091be9",
   "metadata": {},
   "outputs": [
    {
     "data": {
      "image/png": "[encoded data removed]",
      "text/plain": [
       "<Figure size 1000x500 with 1 Axes>"
      ]
     },
     "metadata": {},
     "output_type": "display_data"
    }
   ],
   "source": [
    "plt.rcParams['figure.figsize']=(10,5)\n",
    "plt.hist(df['Age'], bins=10, color='black')\n",
    "plt.xlabel('Age')\n",
    "plt.ylabel('Count')\n",
    "plt.title('Distributin of Players')\n",
    "plt.show()"
   ]
  },
  {
   "cell_type": "markdown",
   "id": "3df850c6-b912-4c5c-9aca-0ec27efbd893",
   "metadata": {},
   "source": [
    "How can we track (top 10) international reputation of players on the basis of name. "
   ]
  },
  {
   "cell_type": "code",
   "execution_count": 25,
   "id": "96d0dd9f-2d76-446b-ae10-02a19ecd2f56",
   "metadata": {},
   "outputs": [
    {
     "data": {
      "text/plain": [
       "Index(['ID', 'Name', 'Age', 'Photo', 'Nationality', 'Flag', 'Overall',\n",
       "       'Potential', 'Club', 'Club Logo', 'Value', 'Wage', 'Special',\n",
       "       'Preferred Foot', 'International Reputation', 'Weak Foot',\n",
       "       'Skill Moves', 'Work Rate', 'Body Type', 'Real Face', 'Position',\n",
       "       'Jersey Number', 'Joined', 'Loaned From', 'Contract Valid Until',\n",
       "       'Height', 'Weight', 'LS', 'ST', 'RS', 'LW', 'LF', 'CF', 'RF', 'RW',\n",
       "       'LAM', 'CAM', 'RAM', 'LM', 'LCM', 'CM', 'RCM', 'RM', 'LWB', 'LDM',\n",
       "       'CDM', 'RDM', 'RWB', 'LB', 'LCB', 'CB', 'RCB', 'RB', 'Crossing',\n",
       "       'Finishing', 'HeadingAccuracy', 'ShortPassing', 'Volleys', 'Dribbling',\n",
       "       'Curve', 'FKAccuracy', 'LongPassing', 'BallControl', 'Acceleration',\n",
       "       'SprintSpeed', 'Agility', 'Reactions', 'Balance', 'ShotPower',\n",
       "       'Jumping', 'Stamina', 'Strength', 'LongShots', 'Aggression',\n",
       "       'Interceptions', 'Positioning', 'Vision', 'Penalties', 'Composure',\n",
       "       'Marking', 'StandingTackle', 'SlidingTackle', 'GKDiving', 'GKHandling',\n",
       "       'GKKicking', 'GKPositioning', 'GKReflexes', 'Release Clause'],\n",
       "      dtype='object')"
      ]
     },
     "execution_count": 25,
     "metadata": {},
     "output_type": "execute_result"
    }
   ],
   "source": [
    "df.columns"
   ]
  },
  {
   "cell_type": "code",
   "execution_count": 26,
   "id": "ca608e09-5984-482a-b07a-63e6d17f5798",
   "metadata": {},
   "outputs": [
    {
     "data": {
      "text/plain": [
       "Name\n",
       "L. Messi             5.0\n",
       "L. Suárez            5.0\n",
       "M. Neuer             5.0\n",
       "Cristiano Ronaldo    5.0\n",
       "Z. Ibrahimovi?       5.0\n",
       "Neymar Jr            5.0\n",
       "M. Balotelli         4.0\n",
       "B. Schweinsteiger    4.0\n",
       "M. Hummels           4.0\n",
       "G. Higuaín           4.0\n",
       "Name: International Reputation, dtype: float64"
      ]
     },
     "execution_count": 26,
     "metadata": {},
     "output_type": "execute_result"
    }
   ],
   "source": [
    "x=df.groupby('Name')['International Reputation'].max().sort_values(ascending=False).head(10)\n",
    "x"
   ]
  },
  {
   "cell_type": "code",
   "execution_count": 27,
   "id": "e18b5fcd-00fc-41f6-9f21-7fd845251114",
   "metadata": {},
   "outputs": [
    {
     "data": {
      "image/png": "[encoded data removed]",
      "text/plain": [
       "<Figure size 1000x500 with 1 Axes>"
      ]
     },
     "metadata": {},
     "output_type": "display_data"
    }
   ],
   "source": [
    "plt.rcParams['figure.figsize']=(10,5)\n",
    "x.plot(kind='bar', color='green')\n",
    "plt.xlabel('Players Name')\n",
    "plt.ylabel('International Reputation')\n",
    "plt.title('Top 10 international reputation of players on the basis of name')\n",
    "plt.show()"
   ]
  },
  {
   "cell_type": "markdown",
   "id": "78b31876-aca3-4ba5-b27c-2802eced7473",
   "metadata": {},
   "source": [
    "What is the international reputation of left and right footed players, print it with their count?"
   ]
  },
  {
   "cell_type": "code",
   "execution_count": 28,
   "id": "6bc417ee-e01e-4eca-9358-ecf79781d2c6",
   "metadata": {},
   "outputs": [
    {
     "data": {
      "text/html": [
       "<div>\n",
       "<style scoped>\n",
       "    .dataframe tbody tr th:only-of-type {\n",
       "        vertical-align: middle;\n",
       "    }\n",
       "\n",
       "    .dataframe tbody tr th {\n",
       "        vertical-align: top;\n",
       "    }\n",
       "\n",
       "    .dataframe thead th {\n",
       "        text-align: right;\n",
       "    }\n",
       "</style>\n",
       "<table border=\"1\" class=\"dataframe\">\n",
       "  <thead>\n",
       "    <tr style=\"text-align: right;\">\n",
       "      <th>International Reputation</th>\n",
       "      <th>1.0</th>\n",
       "      <th>2.0</th>\n",
       "      <th>3.0</th>\n",
       "      <th>4.0</th>\n",
       "      <th>5.0</th>\n",
       "    </tr>\n",
       "    <tr>\n",
       "      <th>Preferred Foot</th>\n",
       "      <th></th>\n",
       "      <th></th>\n",
       "      <th></th>\n",
       "      <th></th>\n",
       "      <th></th>\n",
       "    </tr>\n",
       "  </thead>\n",
       "  <tbody>\n",
       "    <tr>\n",
       "      <th>Left</th>\n",
       "      <td>3839</td>\n",
       "      <td>290</td>\n",
       "      <td>66</td>\n",
       "      <td>15</td>\n",
       "      <td>1</td>\n",
       "    </tr>\n",
       "    <tr>\n",
       "      <th>Right</th>\n",
       "      <td>12741</td>\n",
       "      <td>971</td>\n",
       "      <td>243</td>\n",
       "      <td>36</td>\n",
       "      <td>5</td>\n",
       "    </tr>\n",
       "  </tbody>\n",
       "</table>\n",
       "</div>"
      ],
      "text/plain": [
       "International Reputation    1.0  2.0  3.0  4.0  5.0\n",
       "Preferred Foot                                     \n",
       "Left                       3839  290   66   15    1\n",
       "Right                     12741  971  243   36    5"
      ]
     },
     "execution_count": 28,
     "metadata": {},
     "output_type": "execute_result"
    }
   ],
   "source": [
    "y=df.groupby(['Preferred Foot','International Reputation'])['International Reputation'].count().unstack()\n",
    "y"
   ]
  },
  {
   "cell_type": "code",
   "execution_count": 29,
   "id": "0c14b86a-1aa8-4550-b6fd-61671ad60392",
   "metadata": {},
   "outputs": [
    {
     "data": {
      "image/png": "[encoded data removed]",
      "text/plain": [
       "<Figure size 1000x500 with 1 Axes>"
      ]
     },
     "metadata": {},
     "output_type": "display_data"
    }
   ],
   "source": [
    "plt.rcParams['figure.figsize']=(10,5)\n",
    "y.plot(kind='bar')\n",
    "plt.xlabel('Preferred Root')\n",
    "plt.ylabel('Count')\n",
    "plt.title('International Reputation of left and right footed players')\n",
    "plt.show()"
   ]
  },
  {
   "cell_type": "markdown",
   "id": "d5aa9fc9-ea28-4c6a-9c08-90acc7137559",
   "metadata": {},
   "source": [
    "How can we visualize work rate of players segregated by preferred root?"
   ]
  },
  {
   "cell_type": "code",
   "execution_count": 30,
   "id": "5168b7f4-14ba-49bb-8541-308233e6c08b",
   "metadata": {},
   "outputs": [
    {
     "data": {
      "text/html": [
       "<div>\n",
       "<style scoped>\n",
       "    .dataframe tbody tr th:only-of-type {\n",
       "        vertical-align: middle;\n",
       "    }\n",
       "\n",
       "    .dataframe tbody tr th {\n",
       "        vertical-align: top;\n",
       "    }\n",
       "\n",
       "    .dataframe thead th {\n",
       "        text-align: right;\n",
       "    }\n",
       "</style>\n",
       "<table border=\"1\" class=\"dataframe\">\n",
       "  <thead>\n",
       "    <tr style=\"text-align: right;\">\n",
       "      <th>Work Rate</th>\n",
       "      <th>High/ High</th>\n",
       "      <th>High/ Low</th>\n",
       "      <th>High/ Medium</th>\n",
       "      <th>Low/ High</th>\n",
       "      <th>Low/ Low</th>\n",
       "      <th>Low/ Medium</th>\n",
       "      <th>Medium/ High</th>\n",
       "      <th>Medium/ Low</th>\n",
       "      <th>Medium/ Medium</th>\n",
       "    </tr>\n",
       "    <tr>\n",
       "      <th>Preferred Foot</th>\n",
       "      <th></th>\n",
       "      <th></th>\n",
       "      <th></th>\n",
       "      <th></th>\n",
       "      <th></th>\n",
       "      <th></th>\n",
       "      <th></th>\n",
       "      <th></th>\n",
       "      <th></th>\n",
       "    </tr>\n",
       "  </thead>\n",
       "  <tbody>\n",
       "    <tr>\n",
       "      <th>Left</th>\n",
       "      <td>220</td>\n",
       "      <td>199</td>\n",
       "      <td>949</td>\n",
       "      <td>79</td>\n",
       "      <td>4</td>\n",
       "      <td>90</td>\n",
       "      <td>323</td>\n",
       "      <td>193</td>\n",
       "      <td>2154</td>\n",
       "    </tr>\n",
       "    <tr>\n",
       "      <th>Right</th>\n",
       "      <td>795</td>\n",
       "      <td>500</td>\n",
       "      <td>2224</td>\n",
       "      <td>360</td>\n",
       "      <td>30</td>\n",
       "      <td>359</td>\n",
       "      <td>1367</td>\n",
       "      <td>657</td>\n",
       "      <td>7704</td>\n",
       "    </tr>\n",
       "  </tbody>\n",
       "</table>\n",
       "</div>"
      ],
      "text/plain": [
       "Work Rate       High/ High  High/ Low  High/ Medium  Low/ High  Low/ Low  \\\n",
       "Preferred Foot                                                             \n",
       "Left                   220        199           949         79         4   \n",
       "Right                  795        500          2224        360        30   \n",
       "\n",
       "Work Rate       Low/ Medium  Medium/ High  Medium/ Low  Medium/ Medium  \n",
       "Preferred Foot                                                          \n",
       "Left                     90           323          193            2154  \n",
       "Right                   359          1367          657            7704  "
      ]
     },
     "execution_count": 30,
     "metadata": {},
     "output_type": "execute_result"
    }
   ],
   "source": [
    "z=df.groupby(['Preferred Foot', 'Work Rate'])['Work Rate'].count().unstack()\n",
    "z"
   ]
  },
  {
   "cell_type": "code",
   "execution_count": 31,
   "id": "9d93da5f-4751-4530-af35-27c833ac7977",
   "metadata": {},
   "outputs": [
    {
     "data": {
      "image/png": "[encoded data removed]",
      "text/plain": [
       "<Figure size 1000x500 with 1 Axes>"
      ]
     },
     "metadata": {},
     "output_type": "display_data"
    }
   ],
   "source": [
    "z.plot(kind='bar')\n",
    "plt.xlabel('Preferred Root')\n",
    "plt.ylabel('Work Rate')\n",
    "plt.title('Work Rate of players segregated by preferred root')\n",
    "plt.show()"
   ]
  },
  {
   "cell_type": "code",
   "execution_count": 32,
   "id": "e4084a5a-7f52-473a-aa68-d41565442d5d",
   "metadata": {},
   "outputs": [
    {
     "data": {
      "text/plain": [
       "Text(0.5, 0, 'Preferred Foot')"
      ]
     },
     "execution_count": 32,
     "metadata": {},
     "output_type": "execute_result"
    },
    {
     "data": {
      "image/png": "[encoded data removed]",
      "text/plain": [
       "<Figure size 1000x500 with 1 Axes>"
      ]
     },
     "metadata": {},
     "output_type": "display_data"
    }
   ],
   "source": [
    "import seaborn as sns\n",
    "sns.countplot(data=df,x='Preferred Foot', hue='Work Rate')\n",
    "plt.xlabel('Preferred Foot')"
   ]
  },
  {
   "cell_type": "markdown",
   "id": "9a03b44f-4215-4084-b9b6-eca45d010e76",
   "metadata": {},
   "source": [
    "Number of players at different positions "
   ]
  },
  {
   "cell_type": "code",
   "execution_count": 33,
   "id": "5c1fa71e-00ca-49aa-856f-11fdd3a0ba29",
   "metadata": {},
   "outputs": [
    {
     "data": {
      "text/plain": [
       "Position\n",
       "ST     2212\n",
       "GK     2025\n",
       "CB     1778\n",
       "CM     1394\n",
       "LB     1322\n",
       "RB     1291\n",
       "RM     1124\n",
       "LM     1095\n",
       "CAM     958\n",
       "CDM     948\n",
       "RCB     662\n",
       "LCB     648\n",
       "LCM     395\n",
       "RCM     391\n",
       "LW      381\n",
       "RW      370\n",
       "RDM     248\n",
       "LDM     243\n",
       "LS      207\n",
       "RS      203\n",
       "RWB      87\n",
       "LWB      78\n",
       "CF       74\n",
       "LAM      21\n",
       "RAM      21\n",
       "RF       16\n",
       "LF       15\n",
       "Name: count, dtype: int64"
      ]
     },
     "execution_count": 33,
     "metadata": {},
     "output_type": "execute_result"
    }
   ],
   "source": [
    "b=df['Position'].value_counts()\n",
    "b"
   ]
  },
  {
   "cell_type": "code",
   "execution_count": 34,
   "id": "bc6fa2c1-28db-4d74-bea0-96b0036e504c",
   "metadata": {},
   "outputs": [
    {
     "data": {
      "image/png": "[encoded data removed]",
      "text/plain": [
       "<Figure size 1000x500 with 1 Axes>"
      ]
     },
     "metadata": {},
     "output_type": "display_data"
    }
   ],
   "source": [
    "b.plot(kind='bar')\n",
    "plt.xlabel('Position')\n",
    "plt.ylabel('Count')\n",
    "plt.title('No of players at diff locations')\n",
    "plt.show()"
   ]
  },
  {
   "cell_type": "markdown",
   "id": "7300e1b4-a3f0-4d8f-bcd3-3d90aa4c65ad",
   "metadata": {},
   "source": [
    "Age Distribution from top countries"
   ]
  },
  {
   "cell_type": "code",
   "execution_count": 35,
   "id": "c4d79f08-7d2b-4080-9cdc-2bceabbcbb8e",
   "metadata": {},
   "outputs": [
    {
     "data": {
      "text/plain": [
       "Nationality\n",
       "England        1662\n",
       "Germany        1198\n",
       "Spain          1072\n",
       "Argentina       937\n",
       "France          914\n",
       "Brazil          827\n",
       "Italy           702\n",
       "Colombia        618\n",
       "Japan           478\n",
       "Netherlands     453\n",
       "Name: count, dtype: int64"
      ]
     },
     "execution_count": 35,
     "metadata": {},
     "output_type": "execute_result"
    }
   ],
   "source": [
    "c=df['Nationality'].value_counts().head(10)\n",
    "c"
   ]
  },
  {
   "cell_type": "code",
   "execution_count": 36,
   "id": "ad2481ea-5ee4-4535-ad35-16c8960d4ed6",
   "metadata": {},
   "outputs": [
    {
     "data": {
      "image/png": "[encoded data removed]",
      "text/plain": [
       "<Figure size 1000x500 with 1 Axes>"
      ]
     },
     "metadata": {},
     "output_type": "display_data"
    }
   ],
   "source": [
    "sns.boxplot(x='Nationality',y='Age', data=df[df['Nationality'].isin(c.index)])\n",
    "plt.xticks(rotation=70)\n",
    "plt.xlabel('Nationality')\n",
    "plt.ylabel('Age')\n",
    "plt.title('Age Distribution from top 10 countries')\n",
    "plt.show()"
   ]
  },
  {
   "cell_type": "markdown",
   "id": "502b67b7-b06e-4fb2-b944-a55e2da8bec6",
   "metadata": {},
   "source": [
    "Distribution of Overall score from top 10 countries"
   ]
  },
  {
   "cell_type": "code",
   "execution_count": 37,
   "id": "3f112fd7-7adb-49d2-952f-f7ba7a35d801",
   "metadata": {},
   "outputs": [
    {
     "data": {
      "image/png": "[encoded data removed]",
      "text/plain": [
       "<Figure size 1000x500 with 1 Axes>"
      ]
     },
     "metadata": {},
     "output_type": "display_data"
    }
   ],
   "source": [
    "sns.boxplot(x='Nationality',y='Overall', data=df[df['Nationality'].isin(c.index)])\n",
    "plt.xticks(rotation=70)\n",
    "plt.xlabel('Nationality')\n",
    "plt.ylabel('Overall')\n",
    "plt.title('Distribution of Overall score from top 10 countries')\n",
    "plt.show()"
   ]
  },
  {
   "cell_type": "markdown",
   "id": "a14c43fb-6d92-48c5-a131-2bea6a694c69",
   "metadata": {},
   "source": [
    "Top 10 best players"
   ]
  },
  {
   "cell_type": "code",
   "execution_count": 38,
   "id": "0373271b-70be-42cd-91c2-06f21c06cd13",
   "metadata": {},
   "outputs": [
    {
     "data": {
      "text/plain": [
       "Name\n",
       "Cristiano Ronaldo    94.0\n",
       "L. Messi             94.0\n",
       "Neymar Jr            92.0\n",
       "Sergio Ramos         91.0\n",
       "L. Suárez            91.0\n",
       "L. Modri?            91.0\n",
       "De Gea               91.0\n",
       "K. De Bruyne         91.0\n",
       "E. Hazard            91.0\n",
       "J. Oblak             90.0\n",
       "Name: Overall, dtype: float64"
      ]
     },
     "execution_count": 38,
     "metadata": {},
     "output_type": "execute_result"
    }
   ],
   "source": [
    "d=df.groupby('Name')['Overall'].max().sort_values(ascending=False).head(10)\n",
    "d"
   ]
  },
  {
   "cell_type": "markdown",
   "id": "b32eb88b-542c-4ea3-a945-6c33ce2b99a4",
   "metadata": {},
   "source": [
    "Top 10 Young Players"
   ]
  },
  {
   "cell_type": "code",
   "execution_count": 39,
   "id": "8634c30a-1200-4971-9abb-19512ec82bcc",
   "metadata": {},
   "outputs": [
    {
     "data": {
      "text/plain": [
       "Name\n",
       "M. Larsen       16.0\n",
       "A. Mahlonoko    16.0\n",
       "G. Nugent       16.0\n",
       "C. Bassett      16.0\n",
       "A. Taoui        16.0\n",
       "D. Adshead      16.0\n",
       "K. Broda        16.0\n",
       "A. Do?an        16.0\n",
       "Guerrero        16.0\n",
       "L. Smyth        16.0\n",
       "Name: Age, dtype: float64"
      ]
     },
     "execution_count": 39,
     "metadata": {},
     "output_type": "execute_result"
    }
   ],
   "source": [
    "b=df.groupby('Name')['Age'].min().sort_values(ascending=True).head(10)\n",
    "b"
   ]
  },
  {
   "cell_type": "code",
   "execution_count": 40,
   "id": "a8053fce-7d6c-499b-b195-a0f1ab83b1ca",
   "metadata": {},
   "outputs": [
    {
     "data": {
      "text/html": [
       "<div>\n",
       "<style scoped>\n",
       "    .dataframe tbody tr th:only-of-type {\n",
       "        vertical-align: middle;\n",
       "    }\n",
       "\n",
       "    .dataframe tbody tr th {\n",
       "        vertical-align: top;\n",
       "    }\n",
       "\n",
       "    .dataframe thead th {\n",
       "        text-align: right;\n",
       "    }\n",
       "</style>\n",
       "<table border=\"1\" class=\"dataframe\">\n",
       "  <thead>\n",
       "    <tr style=\"text-align: right;\">\n",
       "      <th></th>\n",
       "      <th>Name</th>\n",
       "      <th>Age</th>\n",
       "    </tr>\n",
       "  </thead>\n",
       "  <tbody>\n",
       "    <tr>\n",
       "      <th>18206</th>\n",
       "      <td>G. Nugent</td>\n",
       "      <td>16.0</td>\n",
       "    </tr>\n",
       "    <tr>\n",
       "      <th>17743</th>\n",
       "      <td>J. Olstad</td>\n",
       "      <td>16.0</td>\n",
       "    </tr>\n",
       "    <tr>\n",
       "      <th>13293</th>\n",
       "      <td>H. Massengo</td>\n",
       "      <td>16.0</td>\n",
       "    </tr>\n",
       "    <tr>\n",
       "      <th>16081</th>\n",
       "      <td>J. Italiano</td>\n",
       "      <td>16.0</td>\n",
       "    </tr>\n",
       "    <tr>\n",
       "      <th>18166</th>\n",
       "      <td>N. Ayéva</td>\n",
       "      <td>16.0</td>\n",
       "    </tr>\n",
       "    <tr>\n",
       "      <th>17712</th>\n",
       "      <td>K. Broda</td>\n",
       "      <td>16.0</td>\n",
       "    </tr>\n",
       "    <tr>\n",
       "      <th>17354</th>\n",
       "      <td>L. D'Arrigo</td>\n",
       "      <td>16.0</td>\n",
       "    </tr>\n",
       "    <tr>\n",
       "      <th>13567</th>\n",
       "      <td>Y. Verschaeren</td>\n",
       "      <td>16.0</td>\n",
       "    </tr>\n",
       "    <tr>\n",
       "      <th>16927</th>\n",
       "      <td>B. Nygren</td>\n",
       "      <td>16.0</td>\n",
       "    </tr>\n",
       "    <tr>\n",
       "      <th>18018</th>\n",
       "      <td>B. O'Gorman</td>\n",
       "      <td>16.0</td>\n",
       "    </tr>\n",
       "  </tbody>\n",
       "</table>\n",
       "</div>"
      ],
      "text/plain": [
       "                 Name   Age\n",
       "18206       G. Nugent  16.0\n",
       "17743       J. Olstad  16.0\n",
       "13293     H. Massengo  16.0\n",
       "16081     J. Italiano  16.0\n",
       "18166        N. Ayéva  16.0\n",
       "17712        K. Broda  16.0\n",
       "17354     L. D'Arrigo  16.0\n",
       "13567  Y. Verschaeren  16.0\n",
       "16927       B. Nygren  16.0\n",
       "18018     B. O'Gorman  16.0"
      ]
     },
     "execution_count": 40,
     "metadata": {},
     "output_type": "execute_result"
    }
   ],
   "source": [
    "#another method\n",
    "x=df.sort_values(by='Age', ascending=True).head(10)\n",
    "x[['Name','Age']]"
   ]
  },
  {
   "cell_type": "code",
   "execution_count": 41,
   "id": "ef3c8270-5ec4-4d13-a29b-548dc4827445",
   "metadata": {},
   "outputs": [],
   "source": [
    "#Assignment"
   ]
  },
  {
   "cell_type": "markdown",
   "id": "e54872b9-45ef-4b71-81f3-c10d520d78af",
   "metadata": {},
   "source": [
    "What is the different work rate of the players?"
   ]
  },
  {
   "cell_type": "code",
   "execution_count": 42,
   "id": "9de846d5-00fb-44c6-9fb9-0b5a7c05b064",
   "metadata": {},
   "outputs": [
    {
     "data": {
      "text/plain": [
       "Work Rate\n",
       "Medium/ Medium    9858\n",
       "High/ Medium      3173\n",
       "Medium/ High      1690\n",
       "High/ High        1015\n",
       "Medium/ Low        850\n",
       "High/ Low          699\n",
       "Low/ Medium        449\n",
       "Low/ High          439\n",
       "Low/ Low            34\n",
       "Name: count, dtype: int64"
      ]
     },
     "execution_count": 42,
     "metadata": {},
     "output_type": "execute_result"
    }
   ],
   "source": [
    "b=df['Work Rate'].value_counts()\n",
    "b"
   ]
  },
  {
   "cell_type": "code",
   "execution_count": 43,
   "id": "0e068b7c-4864-4e57-953b-0080a66cb736",
   "metadata": {},
   "outputs": [
    {
     "data": {
      "image/png": "[encoded data removed]",
      "text/plain": [
       "<Figure size 1000x500 with 1 Axes>"
      ]
     },
     "metadata": {},
     "output_type": "display_data"
    }
   ],
   "source": [
    "b.plot(kind='bar')\n",
    "plt.xlabel('Work Rate')\n",
    "plt.title('Work Rate of players')\n",
    "plt.show()"
   ]
  },
  {
   "cell_type": "markdown",
   "id": "63e81285-6487-46db-a887-e76ed4f66d3d",
   "metadata": {},
   "source": [
    "What is the different skill moves of the players?"
   ]
  },
  {
   "cell_type": "code",
   "execution_count": 44,
   "id": "19d6090e-ac3a-425d-8ab8-5a091c5c193e",
   "metadata": {},
   "outputs": [
    {
     "data": {
      "text/plain": [
       "Skill Moves\n",
       "2.0    8613\n",
       "3.0    6600\n",
       "1.0    2026\n",
       "4.0     917\n",
       "5.0      51\n",
       "Name: count, dtype: int64"
      ]
     },
     "execution_count": 44,
     "metadata": {},
     "output_type": "execute_result"
    }
   ],
   "source": [
    "c=df['Skill Moves'].value_counts()\n",
    "c"
   ]
  },
  {
   "cell_type": "code",
   "execution_count": 45,
   "id": "1635c603-b94a-4eae-aa1d-d9c74ed4ebad",
   "metadata": {},
   "outputs": [
    {
     "data": {
      "image/png": "[encoded data removed]",
      "text/plain": [
       "<Figure size 1000x500 with 1 Axes>"
      ]
     },
     "metadata": {},
     "output_type": "display_data"
    }
   ],
   "source": [
    "c.plot(kind='bar')\n",
    "plt.xlabel('Skill Moves')\n",
    "plt.title('Skill Moves of players')\n",
    "plt.show()"
   ]
  },
  {
   "cell_type": "markdown",
   "id": "92fb01cb-6e6e-420d-b20c-9c2301d581aa",
   "metadata": {},
   "source": [
    "How can we visualze skill moves of players segregated by preferred foot?"
   ]
  },
  {
   "cell_type": "code",
   "execution_count": 46,
   "id": "96d770b1-ed3a-4491-bc6f-0b80a6b945b6",
   "metadata": {},
   "outputs": [
    {
     "data": {
      "text/html": [
       "<div>\n",
       "<style scoped>\n",
       "    .dataframe tbody tr th:only-of-type {\n",
       "        vertical-align: middle;\n",
       "    }\n",
       "\n",
       "    .dataframe tbody tr th {\n",
       "        vertical-align: top;\n",
       "    }\n",
       "\n",
       "    .dataframe thead th {\n",
       "        text-align: right;\n",
       "    }\n",
       "</style>\n",
       "<table border=\"1\" class=\"dataframe\">\n",
       "  <thead>\n",
       "    <tr style=\"text-align: right;\">\n",
       "      <th>Skill Moves</th>\n",
       "      <th>1.0</th>\n",
       "      <th>2.0</th>\n",
       "      <th>3.0</th>\n",
       "      <th>4.0</th>\n",
       "      <th>5.0</th>\n",
       "    </tr>\n",
       "    <tr>\n",
       "      <th>Preferred Foot</th>\n",
       "      <th></th>\n",
       "      <th></th>\n",
       "      <th></th>\n",
       "      <th></th>\n",
       "      <th></th>\n",
       "    </tr>\n",
       "  </thead>\n",
       "  <tbody>\n",
       "    <tr>\n",
       "      <th>Left</th>\n",
       "      <td>206</td>\n",
       "      <td>1954</td>\n",
       "      <td>1757</td>\n",
       "      <td>277</td>\n",
       "      <td>17</td>\n",
       "    </tr>\n",
       "    <tr>\n",
       "      <th>Right</th>\n",
       "      <td>1820</td>\n",
       "      <td>6659</td>\n",
       "      <td>4843</td>\n",
       "      <td>640</td>\n",
       "      <td>34</td>\n",
       "    </tr>\n",
       "  </tbody>\n",
       "</table>\n",
       "</div>"
      ],
      "text/plain": [
       "Skill Moves      1.0   2.0   3.0  4.0  5.0\n",
       "Preferred Foot                            \n",
       "Left             206  1954  1757  277   17\n",
       "Right           1820  6659  4843  640   34"
      ]
     },
     "execution_count": 46,
     "metadata": {},
     "output_type": "execute_result"
    }
   ],
   "source": [
    "d=df.groupby(['Preferred Foot', 'Skill Moves'])['Skill Moves'].count().unstack()\n",
    "d"
   ]
  },
  {
   "cell_type": "code",
   "execution_count": 47,
   "id": "ff28a112-1162-45da-8aaa-08640fa9c5dd",
   "metadata": {},
   "outputs": [
    {
     "data": {
      "image/png": "[encoded data removed]",
      "text/plain": [
       "<Figure size 1000x500 with 1 Axes>"
      ]
     },
     "metadata": {},
     "output_type": "display_data"
    }
   ],
   "source": [
    "d.plot(kind='bar')\n",
    "plt.xlabel('Preferred Root')\n",
    "plt.ylabel('Skill Moves')\n",
    "plt.title('Skill Moves of players segregated by preferred root')\n",
    "plt.show()"
   ]
  },
  {
   "cell_type": "markdown",
   "id": "935a8bc5-5cf6-449a-b3c3-e6ccc35a797e",
   "metadata": {},
   "source": [
    "How can we visualize special score of the players"
   ]
  },
  {
   "cell_type": "code",
   "execution_count": 48,
   "id": "4555f110-18fa-420b-ba60-2bc226a9c897",
   "metadata": {},
   "outputs": [
    {
     "data": {
      "text/plain": [
       "Special\n",
       "1745    47\n",
       "1728    46\n",
       "1628    46\n",
       "1740    42\n",
       "1655    42\n",
       "1649    41\n",
       "1691    41\n",
       "1667    41\n",
       "1748    40\n",
       "1599    40\n",
       "Name: count, dtype: int64"
      ]
     },
     "execution_count": 48,
     "metadata": {},
     "output_type": "execute_result"
    }
   ],
   "source": [
    "g=df['Special'].value_counts().head(10)\n",
    "g"
   ]
  },
  {
   "cell_type": "code",
   "execution_count": 49,
   "id": "81fc44ed-ffa7-4e7d-9040-098a7fde57d2",
   "metadata": {},
   "outputs": [
    {
     "data": {
      "image/png": "[encoded data removed]",
      "text/plain": [
       "<Figure size 1000x500 with 1 Axes>"
      ]
     },
     "metadata": {},
     "output_type": "display_data"
    }
   ],
   "source": [
    "g.plot(kind='bar')\n",
    "plt.xlabel('Special')\n",
    "plt.ylabel('count')\n",
    "plt.title('Special score of players')\n",
    "plt.show()"
   ]
  },
  {
   "cell_type": "markdown",
   "id": "a4596930-3c87-44ac-9d9c-3bd1cc20ab31",
   "metadata": {},
   "source": [
    "How do we calculate number of countries? "
   ]
  },
  {
   "cell_type": "code",
   "execution_count": 50,
   "id": "960ed001-30b4-4ed5-b85e-9fda8abdada9",
   "metadata": {},
   "outputs": [
    {
     "data": {
      "text/plain": [
       "164"
      ]
     },
     "execution_count": 50,
     "metadata": {},
     "output_type": "execute_result"
    }
   ],
   "source": [
    "x=df['Nationality'].nunique()\n",
    "x"
   ]
  },
  {
   "cell_type": "markdown",
   "id": "cc4e5cf9-5ddd-485f-ae4b-d2977c33cf5e",
   "metadata": {},
   "source": [
    "Which countries are there in the dataset? "
   ]
  },
  {
   "cell_type": "code",
   "execution_count": 51,
   "id": "698228ed-3962-460f-8479-d0b89ba80f27",
   "metadata": {},
   "outputs": [
    {
     "data": {
      "text/plain": [
       "Nationality\n",
       "England                 1662\n",
       "Germany                 1198\n",
       "Spain                   1072\n",
       "Argentina                937\n",
       "France                   914\n",
       "                        ... \n",
       "New Caledonia              1\n",
       "Fiji                       1\n",
       "São Tomé & Príncipe        1\n",
       "United Arab Emirates       1\n",
       "Botswana                   1\n",
       "Name: count, Length: 164, dtype: int64"
      ]
     },
     "execution_count": 51,
     "metadata": {},
     "output_type": "execute_result"
    }
   ],
   "source": [
    "y=df['Nationality'].value_counts()\n",
    "y"
   ]
  },
  {
   "cell_type": "markdown",
   "id": "8e40a8c9-27a6-41b2-813e-d414fc1c1db6",
   "metadata": {},
   "source": [
    "Which are top 10 countries with most number of players?"
   ]
  },
  {
   "cell_type": "code",
   "execution_count": 52,
   "id": "3db70a6e-c8c6-4bf7-94d7-d412b8401472",
   "metadata": {},
   "outputs": [
    {
     "data": {
      "text/plain": [
       "Nationality\n",
       "England        1662\n",
       "Germany        1198\n",
       "Spain          1072\n",
       "Argentina       937\n",
       "France          914\n",
       "Brazil          827\n",
       "Italy           702\n",
       "Colombia        618\n",
       "Japan           478\n",
       "Netherlands     453\n",
       "Name: count, dtype: int64"
      ]
     },
     "execution_count": 52,
     "metadata": {},
     "output_type": "execute_result"
    }
   ],
   "source": [
    "top_10_countries = df['Nationality'].value_counts().head(10)\n",
    "top_10_countries"
   ]
  },
  {
   "cell_type": "code",
   "execution_count": 53,
   "id": "8a9dec7a-3992-4fbe-87cd-1baf69d19ecc",
   "metadata": {},
   "outputs": [
    {
     "data": {
      "image/png": "[encoded data removed]",
      "text/plain": [
       "<Figure size 1000x500 with 1 Axes>"
      ]
     },
     "metadata": {},
     "output_type": "display_data"
    }
   ],
   "source": [
    "top_10_countries.plot(kind='bar')\n",
    "plt.xlabel('Nationality')\n",
    "plt.title('Top 10 countries with most number of players')\n",
    "plt.show()"
   ]
  },
  {
   "cell_type": "markdown",
   "id": "271b2c18-f7e0-4769-aa9a-113b3df5af2b",
   "metadata": {},
   "source": [
    "What is the number of players at different positions?"
   ]
  },
  {
   "cell_type": "code",
   "execution_count": 54,
   "id": "d51f3b1f-9b24-4599-bc34-ef41450941d7",
   "metadata": {},
   "outputs": [
    {
     "data": {
      "text/plain": [
       "Position\n",
       "ST     2212\n",
       "GK     2025\n",
       "CB     1778\n",
       "CM     1394\n",
       "LB     1322\n",
       "RB     1291\n",
       "RM     1124\n",
       "LM     1095\n",
       "CAM     958\n",
       "CDM     948\n",
       "RCB     662\n",
       "LCB     648\n",
       "LCM     395\n",
       "RCM     391\n",
       "LW      381\n",
       "RW      370\n",
       "RDM     248\n",
       "LDM     243\n",
       "LS      207\n",
       "RS      203\n",
       "RWB      87\n",
       "LWB      78\n",
       "CF       74\n",
       "LAM      21\n",
       "RAM      21\n",
       "RF       16\n",
       "LF       15\n",
       "Name: count, dtype: int64"
      ]
     },
     "execution_count": 54,
     "metadata": {},
     "output_type": "execute_result"
    }
   ],
   "source": [
    "position_counts = df['Position'].value_counts()\n",
    "position_counts"
   ]
  },
  {
   "cell_type": "code",
   "execution_count": 55,
   "id": "de6956f0-39c4-46f2-851a-153ad7280b2f",
   "metadata": {},
   "outputs": [
    {
     "data": {
      "image/png": "[encoded data removed]",
      "text/plain": [
       "<Figure size 1000x500 with 1 Axes>"
      ]
     },
     "metadata": {},
     "output_type": "display_data"
    }
   ],
   "source": [
    "position_counts.plot(kind='bar')\n",
    "plt.xlabel('Position')\n",
    "plt.ylabel('count')\n",
    "plt.title('Number of players at different positions')\n",
    "plt.show()"
   ]
  },
  {
   "cell_type": "markdown",
   "id": "fa518d03-f5c5-49c0-aef5-4140e6445228",
   "metadata": {},
   "source": [
    "How many clubs are there? "
   ]
  },
  {
   "cell_type": "code",
   "execution_count": 56,
   "id": "786b3012-fd3f-4701-a2f7-a9d9a9db6bac",
   "metadata": {},
   "outputs": [
    {
     "data": {
      "text/plain": [
       "651"
      ]
     },
     "execution_count": 56,
     "metadata": {},
     "output_type": "execute_result"
    }
   ],
   "source": [
    "num_clubs=df['Club'].nunique()\n",
    "num_clubs"
   ]
  },
  {
   "cell_type": "markdown",
   "id": "1de9a636-1af1-47ec-a46b-77f4b51c7e3a",
   "metadata": {},
   "source": [
    "What are the club names? "
   ]
  },
  {
   "cell_type": "code",
   "execution_count": 57,
   "id": "cc0e8e06-775a-41d6-89e5-1926d5108b19",
   "metadata": {},
   "outputs": [
    {
     "data": {
      "text/plain": [
       "array(['FC Barcelona', 'Juventus', 'Paris Saint-Germain',\n",
       "       'Manchester United', 'Manchester City', 'Chelsea', 'Real Madrid',\n",
       "       'Atlético Madrid', 'FC Bayern München', 'Tottenham Hotspur',\n",
       "       'Liverpool', 'Napoli', 'Arsenal', 'Milan', 'Inter', 'Lazio',\n",
       "       'Borussia Dortmund', 'Vissel Kobe', 'Olympique Lyonnais', 'Roma',\n",
       "       'Valencia CF', 'Guangzhou Evergrande Taobao FC', 'FC Porto',\n",
       "       'FC Schalke 04', 'Be?ikta? JK', 'LA Galaxy', 'Sporting CP',\n",
       "       'Real Betis', 'Olympique de Marseille', 'RC Celta',\n",
       "       'Bayer 04 Leverkusen', 'Real Sociedad', 'Villarreal CF',\n",
       "       'Sevilla FC', 'SL Benfica', 'AS Saint-Étienne', 'AS Monaco',\n",
       "       'Leicester City', 'Atalanta', 'Grêmio', 'Atlético Mineiro',\n",
       "       'RB Leipzig', 'Ajax', 'Dalian YiFang FC', 'Everton',\n",
       "       'West Ham United', '1. FC Köln', 'TSG 1899 Hoffenheim',\n",
       "       'Shanghai SIPG FC', 'OGC Nice', 'Al Nassr',\n",
       "       'Wolverhampton Wanderers', 'Borussia Mönchengladbach',\n",
       "       'Hertha BSC', 'SV Werder Bremen', 'Cruzeiro',\n",
       "       'Athletic Club de Bilbao', 'Torino', 'Medipol Ba?ak?ehir FK',\n",
       "       'Beijing Sinobo Guoan FC', 'Crystal Palace', 'PFC CSKA Moscow',\n",
       "       'VfL Wolfsburg', 'Shakhtar Donetsk', 'Toronto FC',\n",
       "       'Lokomotiv Moscow', 'Sassuolo', 'New York City FC', 'Fluminense',\n",
       "       'PSV', 'Levante UD', 'Fulham', 'Watford', 'Atlanta United',\n",
       "       'Montpellier HSC', 'Galatasaray SK', 'Fenerbahçe SK', 'SD Eibar',\n",
       "       'Los Angeles FC', 'Sampdoria', 'Al Hilal', 'VfB Stuttgart',\n",
       "       'SC Braga', 'River Plate', 'Deportivo Alavés',\n",
       "       'Eintracht Frankfurt', 'Girona FC', 'Guangzhou R&F; FC', 'Burnley',\n",
       "       'Stoke City', 'Southampton', 'Tianjin Quanjian FC', 'Getafe CF',\n",
       "       'Beijing Renhe FC', 'Montreal Impact', 'Chievo Verona', 'Genoa',\n",
       "       'Portland Timbers', 'Tigres U.A.N.L.', 'RCD Espanyol',\n",
       "       'Hebei China Fortune FC', 'Cagliari', 'Chicago Fire', 'DC United',\n",
       "       'Sagan Tosu', 'Dynamo Kyiv', 'Santos', 'Internacional',\n",
       "       'América FC (Minas Gerais)', 'Independiente', 'Boca Juniors',\n",
       "       'Cruz Azul', '1. FSV Mainz 05', 'Bournemouth', 'Spartak Moscow',\n",
       "       'Racing Club', 'FC Augsburg', 'Fiorentina', 'FC Nantes',\n",
       "       'Feyenoord', 'Club Brugge KV', 'Brighton & Hove Albion', 'Al Ahli',\n",
       "       'Jiangsu Suning FC', 'SC Freiburg', 'PAOK', 'Stade Rennais FC',\n",
       "       'Trabzonspor', 'SPAL', 'Portimonense SC', 'Olympiacos CFP',\n",
       "       'Club Atlético Huracán', 'Kasimpa?a SK', 'Newcastle United',\n",
       "       'Frosinone', 'Querétaro', 'KRC Genk', 'Hannover 96',\n",
       "       'Stade Malherbe Caen', 'Godoy Cruz', 'Toulouse Football Club',\n",
       "       'RSC Anderlecht', 'Huddersfield Town', 'CD Tondela',\n",
       "       'Seattle Sounders FC', 'Hamburger SV', 'FC Red Bull Salzburg',\n",
       "       'Rio Ave FC', 'FC Girondins de Bordeaux', 'Melbourne Victory',\n",
       "       'Parma', 'FC Basel 1893', 'Al Wehda', 'BSC Young Boys', 'KAA Gent',\n",
       "       'Al Ittihad', 'Standard de Liège', 'Shanghai Greenland Shenhua FC',\n",
       "       'Colo-Colo', 'Junior FC', 'West Bromwich Albion',\n",
       "       'RC Strasbourg Alsace', 'Göztepe SK', 'Deportivo Cali',\n",
       "       'Deportivo Toluca', 'Bologna', 'Nagoya Grampus', 'Amiens SC',\n",
       "       'Changchun Yatai FC', 'Club Atlético Lanús', 'Botafogo',\n",
       "       'Club América', 'Udinese', 'Real Valladolid CF', 'CD Leganés',\n",
       "       'Club Atlético Banfield', 'Celtic', 'Vitória Guimarães',\n",
       "       'FC København', 'UD Las Palmas', 'Deportivo de La Coruña',\n",
       "       'Universidad Católica', 'San Lorenzo de Almagro', 'Rayo Vallecano',\n",
       "       'Monterrey', 'Columbus Crew SC', 'MKE Ankaragücü',\n",
       "       'Guizhou Hengfeng FC', 'Swansea City', 'Tianjin TEDA FC',\n",
       "       'Chongqing Dangdai Lifan FC SWM Team', 'AEK Athens', 'Al Taawoun',\n",
       "       'Melbourne City FC', 'En Avant de Guingamp',\n",
       "       'Akhisar Belediyespor', 'Foggia', 'LOSC Lille', '1. FC Nürnberg',\n",
       "       'Clube Sport Marítimo', 'Real Sporting de Gijón', 'BB Erzurumspor',\n",
       "       'Shandong Luneng TaiShan FC', 'Club Atlético Colón', 'Bahia',\n",
       "       'Once Caldas', 'FC Groningen', 'Angers SCO', 'Paraná',\n",
       "       'Antalyaspor', 'Minnesota United FC', 'Club León', 'Empoli',\n",
       "       'VVV-Venlo', 'Leeds United', 'Viktoria Plze?', 'Alanyaspor',\n",
       "       'Atlético Paranaense', 'Derby County', 'Kawasaki Frontale',\n",
       "       'Cardiff City', 'Aston Villa', 'Guadalajara', 'Dijon FCO',\n",
       "       'Santos Laguna', 'Málaga CF', 'Vitória', 'Çaykur Rizespor',\n",
       "       'U.N.A.M.', 'Nottingham Forest', 'Royal Antwerp FC',\n",
       "       'Club Tijuana', 'Sport Club do Recife', 'Real Salt Lake',\n",
       "       'AZ Alkmaar', 'SK Slavia Praha', 'Willem II', 'Middlesbrough',\n",
       "       'Dinamo Zagreb', 'Club Atlas', 'Granada CF', 'Sydney FC',\n",
       "       'Sporting Kansas City', 'SV Zulte-Waregem', 'Philadelphia Union',\n",
       "       'Real Oviedo', 'Pachuca', 'Boavista FC', 'Atiker Konyaspor',\n",
       "       'Kaizer Chiefs', 'GD Chaves', 'Palermo', 'Atlético Nacional',\n",
       "       'Puebla FC', 'Perth Glory', 'Panathinaikos FC', 'FC Sion',\n",
       "       'Vitória de Setúbal', 'New York Red Bulls', 'Al Shabab',\n",
       "       'Monarcas Morelia', 'Albacete BP', 'Rangers FC', 'Sparta Praha',\n",
       "       'Legia Warszawa', 'Urawa Red Diamonds', 'Rosario Central',\n",
       "       'Stade de Reims', 'ADO Den Haag', 'Chapecoense', 'FC Midtjylland',\n",
       "       'San Jose Earthquakes', 'Belgrano de Córdoba', 'Brescia',\n",
       "       'Kashima Antlers', 'CD Everton de Viña del Mar',\n",
       "       'Fortuna Düsseldorf', 'SD Huesca', 'Preston North End',\n",
       "       'Club Atlético Talleres', 'Benevento', 'Vitesse',\n",
       "       'Gimnasia y Esgrima La Plata', 'Houston Dynamo', 'Club Necaxa',\n",
       "       'Norwich City', 'Holstein Kiel', 'Ettifaq FC', 'Kayserispor',\n",
       "       '1. FC Heidenheim 1846', 'Brentford', 'Yeni Malatyaspor',\n",
       "       'Lobos BUAP', 'Bursaspor', 'Ceará Sporting Club',\n",
       "       'Sheffield United', 'FC Ingolstadt 04', 'Estudiantes de La Plata',\n",
       "       'AIK', 'Queens Park Rangers', 'Suwon Samsung Bluewings',\n",
       "       'Heart of Midlothian', 'Reading', 'FC Dallas', 'Heracles Almelo',\n",
       "       'Venezia FC', 'CD Lugo', 'Henan Jianye FC', 'Orlando City SC',\n",
       "       'CA Osasuna', 'NAC Breda', 'Livorno', 'Universidad de Chile',\n",
       "       'Brøndby IF', 'Aberdeen', 'Defensa y Justicia', 'Atlético Tucumán',\n",
       "       'Blackburn Rovers', 'SV Darmstadt 98', 'Moreirense FC',\n",
       "       'Sanfrecce Hiroshima', 'CD Numancia', 'KV Oostende', 'FC Utrecht',\n",
       "       'Vancouver Whitecaps FC', 'Odense Boldklub', 'SC Heerenveen',\n",
       "       'Racing Club de Lens', 'Independiente Santa Fe',\n",
       "       'Sporting de Charleroi', 'Millonarios FC', 'Sheffield Wednesday',\n",
       "       'Perugia', 'Daegu FC', 'Vélez Sarsfield',\n",
       "       'Grasshopper Club Zürich', 'Sivasspor', 'Nîmes Olympique',\n",
       "       'Rosenborg BK', 'SK Sturm Graz', 'FC Metz',\n",
       "       'CD Universidad de Concepción', 'Hellas Verona', 'Brisbane Roar',\n",
       "       'CD Feirense', 'Hull City', 'Waasland-Beveren', 'Neuchâtel Xamax',\n",
       "       'Real Zaragoza', 'CD Aves', 'Millwall', 'Unión de Santa Fe',\n",
       "       'KAS Eupen', 'Cádiz CF', 'FC Tokyo', 'CD Tenerife',\n",
       "       '1. FC Union Berlin', 'Al Fayha', 'AJ Auxerre',\n",
       "       'Patriotas Boyacá FC', 'Molde FK', 'Bristol City', 'CD Nacional',\n",
       "       'Sporting Lokeren', 'FC St. Pauli', 'Deportes Iquique',\n",
       "       'Al Qadisiyah', 'Atlético Bucaramanga', 'Club Atlético Tigre',\n",
       "       'FK Austria Wien', 'Patronato', 'Malmö FF', 'Kashiwa Reysol',\n",
       "       'US Cremonese', 'VfL Bochum 1848', 'SK Rapid Wien',\n",
       "       'KSV Cercle Brugge', 'Rionegro Águilas', 'Gimnàstic de Tarragona',\n",
       "       'Lecce', 'Santa Clara', 'BK Häcken', 'New England Revolution',\n",
       "       'Orlando Pirates', 'Atlético Huila', 'Western Sydney Wanderers',\n",
       "       'Kalmar FF', 'Independiente Medellín', 'Fortuna Sittard',\n",
       "       'Lech Pozna?', 'Djurgårdens IF', 'CF Reus Deportiu', 'SK Brann',\n",
       "       'Ulsan Hyundai FC', 'Sint-Truidense VV', 'Carpi', 'Al Fateh',\n",
       "       'Royal Excel Mouscron', 'AC Ajaccio', 'PEC Zwolle', 'Sunderland',\n",
       "       'Club Atlético Aldosivi', 'US Salernitana 1919', 'FC Lorient',\n",
       "       'Argentinos Juniors', 'AD Alcorcón', 'Crotone', 'Excelsior',\n",
       "       'KV Kortrijk', 'IFK Norrköping', 'Adelaide United',\n",
       "       'FC St. Gallen', 'Tiburones Rojos de Veracruz', 'CD Palestino',\n",
       "       'Jeju United FC', 'Deportes Tolima', 'Jeonbuk Hyundai Motors',\n",
       "       'Birmingham City', 'América de Cali', 'La Equidad', 'Spezia',\n",
       "       'Aalborg BK', 'Le Havre AC', 'Górnik Zabrze',\n",
       "       'Central Coast Mariners', 'Wigan Athletic',\n",
       "       'Jagiellonia Bia?ystok', 'Cittadella', 'Hibernian', 'FC Lugano',\n",
       "       'San Martín de San Juan', 'Strømsgodset IF', 'Júbilo Iwata',\n",
       "       \"Newell's Old Boys\", 'Al Faisaly', 'Colorado Rapids',\n",
       "       'IF Elfsborg', 'SV Sandhausen', 'Al Batin', 'Stade Brestois 29',\n",
       "       'UD Almería', 'Gyeongnam FC', 'Yokohama F. Marinos', 'Kilmarnock',\n",
       "       'Pescara', 'Newcastle Jets', 'Córdoba CF', 'RCD Mallorca',\n",
       "       'Hammarby IF', 'Cerezo Osaka', 'KFC Uerdingen 05',\n",
       "       'Shimizu S-Pulse', 'MSV Duisburg', 'Os Belenenses',\n",
       "       'DSC Arminia Bielefeld', 'Ipswich Town', 'FC Seoul',\n",
       "       'Lechia Gda?sk', 'Gamba Osaka', 'CF Rayo Majadahonda', 'LASK Linz',\n",
       "       'Bolton Wanderers', 'Al Raed', 'Extremadura UD', 'SC Paderborn 07',\n",
       "       'Wellington Phoenix', 'Unión Española', 'Alianza Petrolera',\n",
       "       'Cracovia', 'Gangwon FC', 'Elche CF', 'ESTAC Troyes', 'AS Béziers',\n",
       "       'La Berrichonne de Châteauroux', 'Clermont Foot 63',\n",
       "       '1. FC Magdeburg', 'Pohang Steelers', 'Örebro SK', 'Arka Gdynia',\n",
       "       'SG Dynamo Dresden', 'SpVgg Greuther Fürth', 'CD Huachipato',\n",
       "       'Wis?a Kraków', 'Stabæk Fotball', 'Eintracht Braunschweig',\n",
       "       'Valenciennes FC', 'FC Thun', 'San Luis de Quillota',\n",
       "       ' SSV Jahn Regensburg', 'Cosenza', 'FC Nordsjælland',\n",
       "       'FC Erzgebirge Aue', 'Jeonnam Dragons', 'Wolfsberger AC',\n",
       "       'Chamois Niortais Football Club', 'Club Deportes Temuco',\n",
       "       'AS Nancy Lorraine', 'Red Star FC', 'Al Hazem', 'Pogo? Szczecin',\n",
       "       'Charlton Athletic', 'Grenoble Foot 38', 'FC Hansa Rostock',\n",
       "       'San Martin de Tucumán', 'Incheon United FC', '?l?sk Wroc?aw',\n",
       "       'GFC Ajaccio', '1. FC Kaiserslautern', 'Deportivo Pasto',\n",
       "       'Lincoln City', 'Motherwell', 'Rotherham United', 'Burton Albion',\n",
       "       'Wis?a P?ock', 'FC Wacker Innsbruck', 'Peterborough United',\n",
       "       'Ascoli', 'FC Zürich', 'Fleetwood Town', 'Padova',\n",
       "       'FC Sochaux-Montbéliard', 'SV Wehen Wiesbaden', 'Unión La Calera',\n",
       "       'Scunthorpe United', \"CD O'Higgins\", 'CD Antofagasta',\n",
       "       'Plymouth Argyle', 'Aarhus GF', 'Lillestrøm SK', 'Karlsruher SC',\n",
       "       'GIF Sundsvall', 'FC Emmen', 'Barnsley', 'Audax Italiano',\n",
       "       'V-Varen Nagasaki', 'Paris FC', 'SpVgg Unterhaching', 'Hobro IK',\n",
       "       'De Graafschap', 'Hokkaido Consadole Sapporo', 'Tromsø IL',\n",
       "       'FC Luzern', 'FK Haugesund', 'Zag??bie Lubin', 'VfR Aalen',\n",
       "       'Dundalk', 'Oxford United', 'Piast Gliwice', 'Ohod Club',\n",
       "       'Östersunds FK', 'Vegalta Sendai', 'Crawley Town',\n",
       "       'FC Admira Wacker Mödling', 'Vålerenga Fotball', 'Dundee FC',\n",
       "       'Portsmouth', 'Envigado FC', 'Mied? Legnica', 'Odds BK',\n",
       "       'SC Fortuna Köln', 'US Orléans Loiret Football', 'Sarpsborg 08 FF',\n",
       "       'Jaguares de Córdoba', 'Bradford City', 'Accrington Stanley',\n",
       "       'St. Johnstone FC', 'Boyacá Chicó FC', 'Luton Town',\n",
       "       'SV Mattersburg', 'Kristiansund BK', 'Sangju Sangmu FC',\n",
       "       'Rochdale', 'Walsall', 'Korona Kielce', 'Shonan Bellmare',\n",
       "       'FC Würzburger Kickers', 'FSV Zwickau', 'St. Mirren', 'AC Horsens',\n",
       "       'Esbjerg fB', 'HJK Helsinki', 'Southend United', 'Bristol Rovers',\n",
       "       'Hamilton Academical FC', 'TSV 1860 München', 'Curicó Unido',\n",
       "       'SCR Altach', 'Ranheim Fotball', 'Stevenage',\n",
       "       'SG Sonnenhof Großaspach', 'Oldham Athletic', 'Milton Keynes Dons',\n",
       "       'FK Bodø/Glimt', 'SC Preußen Münster', 'Wycombe Wanderers',\n",
       "       'Vejle Boldklub', 'Bury', 'Randers FC', 'VfL Osnabrück',\n",
       "       'SønderjyskE', 'IFK Göteborg', 'Mansfield Town', 'Coventry City',\n",
       "       'Waterford FC', 'Shrewsbury', 'IK Start', 'Gillingham',\n",
       "       'FC Energie Cottbus', 'FC Carl Zeiss Jena', 'Hallescher FC',\n",
       "       'SV Meppen', 'AFC Wimbledon', 'Blackpool', 'Doncaster Rovers',\n",
       "       'Sandefjord Fotball', 'VfL Sportfreunde Lotte', 'Cheltenham Town',\n",
       "       'IK Sirius', 'Vendsyssel FF', 'Swindon Town', 'Notts County',\n",
       "       'SKN St. Pölten', 'Exeter City', 'Northampton Town',\n",
       "       'Shamrock Rovers', 'Colchester United', 'Livingston FC',\n",
       "       'TSV Hartberg', 'Tranmere Rovers', 'Cambridge United',\n",
       "       'Grimsby Town', 'Port Vale', 'Itagüí Leones FC',\n",
       "       'Forest Green Rovers', 'Dalkurd FF', 'Zag??bie Sosnowiec',\n",
       "       'Carlisle United', 'Trelleborgs FF', \"St. Patrick's Athletic\",\n",
       "       'Morecambe', 'Cork City', 'IF Brommapojkarna', 'Crewe Alexandra',\n",
       "       'Yeovil Town', 'Bohemian FC', 'Macclesfield Town',\n",
       "       'Newport County', 'Sligo Rovers', 'Derry City', 'Limerick FC',\n",
       "       'Bray Wanderers'], dtype=object)"
      ]
     },
     "execution_count": 57,
     "metadata": {},
     "output_type": "execute_result"
    }
   ],
   "source": [
    "club_names = df['Club'].unique()\n",
    "club_names"
   ]
  },
  {
   "cell_type": "markdown",
   "id": "0db882a2-2c35-46fd-8865-82928109f51a",
   "metadata": {},
   "source": [
    "How do we calculate number of countries?"
   ]
  },
  {
   "cell_type": "code",
   "execution_count": 58,
   "id": "c45505df-a797-4eb1-a12e-8b6a96d21bd0",
   "metadata": {},
   "outputs": [
    {
     "data": {
      "text/plain": [
       "164"
      ]
     },
     "execution_count": 58,
     "metadata": {},
     "output_type": "execute_result"
    }
   ],
   "source": [
    "num_countries=df['Nationality'].nunique()\n",
    "num_countries"
   ]
  },
  {
   "cell_type": "markdown",
   "id": "3fe7ce8f-6465-48f2-b80e-58b7c3f74578",
   "metadata": {},
   "source": [
    "Which countries are there in the dataset?"
   ]
  },
  {
   "cell_type": "code",
   "execution_count": 59,
   "id": "b0640733-a7cb-4af2-b2ef-047e8d89c437",
   "metadata": {},
   "outputs": [
    {
     "data": {
      "text/plain": [
       "array(['Argentina', 'Portugal', 'Brazil', 'Spain', 'Belgium', 'Croatia',\n",
       "       'Uruguay', 'Slovenia', 'Poland', 'Germany', 'France', 'England',\n",
       "       'Italy', 'Egypt', 'Colombia', 'Denmark', 'Gabon', 'Wales',\n",
       "       'Senegal', 'Costa Rica', 'Slovakia', 'Netherlands',\n",
       "       'Bosnia Herzegovina', 'Morocco', 'Serbia', 'Algeria', 'Austria',\n",
       "       'Greece', 'Chile', 'Sweden', 'Korea Republic', 'Finland', 'Guinea',\n",
       "       'Montenegro', 'Armenia', 'Switzerland', 'Norway', 'Czech Republic',\n",
       "       'Scotland', 'Ghana', 'Central African Rep.', 'DR Congo',\n",
       "       'Ivory Coast', 'Russia', 'Ukraine', 'Iceland', 'Mexico', 'Jamaica',\n",
       "       'Albania', 'Venezuela', 'Japan', 'Turkey', 'Ecuador', 'Paraguay',\n",
       "       'Mali', 'Nigeria', 'Cameroon', 'Dominican Republic', 'Israel',\n",
       "       'Kenya', 'Hungary', 'Republic of Ireland', 'Romania',\n",
       "       'United States', 'Cape Verde', 'Australia', 'Peru', 'Togo',\n",
       "       'Syria', 'Zimbabwe', 'Angola', 'Burkina Faso', 'Iran', 'Estonia',\n",
       "       'Tunisia', 'Equatorial Guinea', 'New Zealand', 'FYR Macedonia',\n",
       "       'United Arab Emirates', 'China PR', 'Guinea Bissau', 'Bulgaria',\n",
       "       'Kosovo', 'South Africa', 'Madagascar', 'Georgia', 'Tanzania',\n",
       "       'Gambia', 'Cuba', 'Belarus', 'Uzbekistan', 'Benin', 'Congo',\n",
       "       'Mozambique', 'Honduras', 'Canada', 'Northern Ireland', 'Cyprus',\n",
       "       'Saudi Arabia', 'Curacao', 'Moldova', 'Bolivia',\n",
       "       'Trinidad & Tobago', 'Sierra Leone', 'Zambia', 'Chad',\n",
       "       'Philippines', 'Haiti', 'Comoros', 'Libya', 'Panama',\n",
       "       'São Tomé & Príncipe', 'Eritrea', 'Oman', 'Iraq', 'Burundi',\n",
       "       'Fiji', 'New Caledonia', 'Lithuania', 'Luxembourg', 'Korea DPR',\n",
       "       'Liechtenstein', 'St Kitts Nevis', 'Latvia', 'Suriname', 'Uganda',\n",
       "       'El Salvador', 'Bermuda', 'Kuwait', 'Antigua & Barbuda',\n",
       "       'Thailand', 'Mauritius', 'Guatemala', 'Liberia', 'Kazakhstan',\n",
       "       'Niger', 'Mauritania', 'Montserrat', 'Namibia', 'Azerbaijan',\n",
       "       'Guam', 'Faroe Islands', 'India', 'Nicaragua', 'Barbados',\n",
       "       'Lebanon', 'Palestine', 'Guyana', 'Sudan', 'St Lucia', 'Ethiopia',\n",
       "       'Puerto Rico', 'Grenada', 'Jordan', 'Rwanda', 'Qatar',\n",
       "       'Afghanistan', 'Hong Kong', 'Andorra', 'Malta', 'Belize',\n",
       "       'South Sudan', 'Indonesia', 'Botswana'], dtype=object)"
      ]
     },
     "execution_count": 59,
     "metadata": {},
     "output_type": "execute_result"
    }
   ],
   "source": [
    "countries=df['Nationality'].unique()\n",
    "countries"
   ]
  },
  {
   "cell_type": "markdown",
   "id": "c3fdf43b-95f7-4101-9165-20a5d83bbcc2",
   "metadata": {},
   "source": [
    "Who are the top 10 eldest players?"
   ]
  },
  {
   "cell_type": "code",
   "execution_count": 60,
   "id": "c5087130-af3f-42b6-bc67-e2b525ab31ae",
   "metadata": {},
   "outputs": [
    {
     "data": {
      "text/plain": [
       "Name\n",
       "O. Pérez         45.0\n",
       "K. Pilkington    44.0\n",
       "T. Warner        44.0\n",
       "S. Narazaki      42.0\n",
       "B. Nivet         41.0\n",
       "J. Villar        41.0\n",
       "M. Tyler         41.0\n",
       "H. Sulaimani     41.0\n",
       "C. Muñoz         41.0\n",
       "S. Nakamura      40.0\n",
       "Name: Age, dtype: float64"
      ]
     },
     "execution_count": 60,
     "metadata": {},
     "output_type": "execute_result"
    }
   ],
   "source": [
    "c=df.groupby('Name')['Age'].max().sort_values(ascending=False).head(10)\n",
    "c"
   ]
  },
  {
   "cell_type": "markdown",
   "id": "ef899720-c433-4a7a-8e15-78fa03fe5e25",
   "metadata": {},
   "source": [
    "Who are the best free-kick takers?"
   ]
  },
  {
   "cell_type": "code",
   "execution_count": 61,
   "id": "4f59f3ca-815f-4635-8d1f-789b1d0b59f1",
   "metadata": {},
   "outputs": [
    {
     "data": {
      "text/html": [
       "<div>\n",
       "<style scoped>\n",
       "    .dataframe tbody tr th:only-of-type {\n",
       "        vertical-align: middle;\n",
       "    }\n",
       "\n",
       "    .dataframe tbody tr th {\n",
       "        vertical-align: top;\n",
       "    }\n",
       "\n",
       "    .dataframe thead th {\n",
       "        text-align: right;\n",
       "    }\n",
       "</style>\n",
       "<table border=\"1\" class=\"dataframe\">\n",
       "  <thead>\n",
       "    <tr style=\"text-align: right;\">\n",
       "      <th></th>\n",
       "      <th>Name</th>\n",
       "      <th>FKAccuracy</th>\n",
       "    </tr>\n",
       "  </thead>\n",
       "  <tbody>\n",
       "    <tr>\n",
       "      <th>0</th>\n",
       "      <td>L. Messi</td>\n",
       "      <td>94.0</td>\n",
       "    </tr>\n",
       "    <tr>\n",
       "      <th>1</th>\n",
       "      <td>S. Giovinco</td>\n",
       "      <td>93.0</td>\n",
       "    </tr>\n",
       "    <tr>\n",
       "      <th>2</th>\n",
       "      <td>M. Pjani?</td>\n",
       "      <td>92.0</td>\n",
       "    </tr>\n",
       "    <tr>\n",
       "      <th>3</th>\n",
       "      <td>E. Bardhi</td>\n",
       "      <td>91.0</td>\n",
       "    </tr>\n",
       "    <tr>\n",
       "      <th>4</th>\n",
       "      <td>H. Çalhano?lu</td>\n",
       "      <td>90.0</td>\n",
       "    </tr>\n",
       "    <tr>\n",
       "      <th>5</th>\n",
       "      <td>Parejo</td>\n",
       "      <td>90.0</td>\n",
       "    </tr>\n",
       "    <tr>\n",
       "      <th>6</th>\n",
       "      <td>M. Depay</td>\n",
       "      <td>88.0</td>\n",
       "    </tr>\n",
       "    <tr>\n",
       "      <th>7</th>\n",
       "      <td>S. Nakamura</td>\n",
       "      <td>88.0</td>\n",
       "    </tr>\n",
       "    <tr>\n",
       "      <th>8</th>\n",
       "      <td>P. Dybala</td>\n",
       "      <td>88.0</td>\n",
       "    </tr>\n",
       "    <tr>\n",
       "      <th>9</th>\n",
       "      <td>C. Eriksen</td>\n",
       "      <td>87.0</td>\n",
       "    </tr>\n",
       "  </tbody>\n",
       "</table>\n",
       "</div>"
      ],
      "text/plain": [
       "            Name  FKAccuracy\n",
       "0       L. Messi        94.0\n",
       "1    S. Giovinco        93.0\n",
       "2      M. Pjani?        92.0\n",
       "3      E. Bardhi        91.0\n",
       "4  H. Çalhano?lu        90.0\n",
       "5         Parejo        90.0\n",
       "6       M. Depay        88.0\n",
       "7    S. Nakamura        88.0\n",
       "8      P. Dybala        88.0\n",
       "9     C. Eriksen        87.0"
      ]
     },
     "execution_count": 61,
     "metadata": {},
     "output_type": "execute_result"
    }
   ],
   "source": [
    "best_free_kick_takers=df.groupby(['Name'])['FKAccuracy'].max().sort_values(ascending=False).head(10).reset_index()\n",
    "best_free_kick_takers"
   ]
  },
  {
   "cell_type": "markdown",
   "id": "82079df2-cdbb-4469-950e-c517b86cd961",
   "metadata": {},
   "source": [
    "Who are the best penalty kick takers?"
   ]
  },
  {
   "cell_type": "code",
   "execution_count": 62,
   "id": "99618281-dcb1-4c4f-abb3-ecca0ae8792f",
   "metadata": {},
   "outputs": [
    {
     "data": {
      "text/html": [
       "<div>\n",
       "<style scoped>\n",
       "    .dataframe tbody tr th:only-of-type {\n",
       "        vertical-align: middle;\n",
       "    }\n",
       "\n",
       "    .dataframe tbody tr th {\n",
       "        vertical-align: top;\n",
       "    }\n",
       "\n",
       "    .dataframe thead th {\n",
       "        text-align: right;\n",
       "    }\n",
       "</style>\n",
       "<table border=\"1\" class=\"dataframe\">\n",
       "  <thead>\n",
       "    <tr style=\"text-align: right;\">\n",
       "      <th></th>\n",
       "      <th>Name</th>\n",
       "      <th>Penalties</th>\n",
       "    </tr>\n",
       "  </thead>\n",
       "  <tbody>\n",
       "    <tr>\n",
       "      <th>0</th>\n",
       "      <td>M. Balotelli</td>\n",
       "      <td>92.0</td>\n",
       "    </tr>\n",
       "    <tr>\n",
       "      <th>1</th>\n",
       "      <td>Fabinho</td>\n",
       "      <td>91.0</td>\n",
       "    </tr>\n",
       "    <tr>\n",
       "      <th>2</th>\n",
       "      <td>M. Kruse</td>\n",
       "      <td>90.0</td>\n",
       "    </tr>\n",
       "    <tr>\n",
       "      <th>3</th>\n",
       "      <td>D. Perotti</td>\n",
       "      <td>90.0</td>\n",
       "    </tr>\n",
       "    <tr>\n",
       "      <th>4</th>\n",
       "      <td>R. Jiménez</td>\n",
       "      <td>90.0</td>\n",
       "    </tr>\n",
       "    <tr>\n",
       "      <th>5</th>\n",
       "      <td>H. Kane</td>\n",
       "      <td>90.0</td>\n",
       "    </tr>\n",
       "    <tr>\n",
       "      <th>6</th>\n",
       "      <td>R. Boudebouz</td>\n",
       "      <td>90.0</td>\n",
       "    </tr>\n",
       "    <tr>\n",
       "      <th>7</th>\n",
       "      <td>L. Baines</td>\n",
       "      <td>90.0</td>\n",
       "    </tr>\n",
       "    <tr>\n",
       "      <th>8</th>\n",
       "      <td>Edinho</td>\n",
       "      <td>89.0</td>\n",
       "    </tr>\n",
       "    <tr>\n",
       "      <th>9</th>\n",
       "      <td>M. Reus</td>\n",
       "      <td>89.0</td>\n",
       "    </tr>\n",
       "  </tbody>\n",
       "</table>\n",
       "</div>"
      ],
      "text/plain": [
       "           Name  Penalties\n",
       "0  M. Balotelli       92.0\n",
       "1       Fabinho       91.0\n",
       "2      M. Kruse       90.0\n",
       "3    D. Perotti       90.0\n",
       "4    R. Jiménez       90.0\n",
       "5       H. Kane       90.0\n",
       "6  R. Boudebouz       90.0\n",
       "7     L. Baines       90.0\n",
       "8        Edinho       89.0\n",
       "9       M. Reus       89.0"
      ]
     },
     "execution_count": 62,
     "metadata": {},
     "output_type": "execute_result"
    }
   ],
   "source": [
    "best_penalty_takers=df.groupby(['Name'])['Penalties'].max().sort_values(ascending=False).head(10).reset_index()\n",
    "best_penalty_takers"
   ]
  },
  {
   "cell_type": "markdown",
   "id": "d0b7f476-102c-4232-b360-06d188e1f7d4",
   "metadata": {},
   "source": [
    "Who are the best players with the ball control?"
   ]
  },
  {
   "cell_type": "code",
   "execution_count": 63,
   "id": "6caa90e6-47f8-4591-812b-6710c5deae17",
   "metadata": {},
   "outputs": [
    {
     "data": {
      "text/html": [
       "<div>\n",
       "<style scoped>\n",
       "    .dataframe tbody tr th:only-of-type {\n",
       "        vertical-align: middle;\n",
       "    }\n",
       "\n",
       "    .dataframe tbody tr th {\n",
       "        vertical-align: top;\n",
       "    }\n",
       "\n",
       "    .dataframe thead th {\n",
       "        text-align: right;\n",
       "    }\n",
       "</style>\n",
       "<table border=\"1\" class=\"dataframe\">\n",
       "  <thead>\n",
       "    <tr style=\"text-align: right;\">\n",
       "      <th></th>\n",
       "      <th>Name</th>\n",
       "      <th>BallControl</th>\n",
       "    </tr>\n",
       "  </thead>\n",
       "  <tbody>\n",
       "    <tr>\n",
       "      <th>0</th>\n",
       "      <td>L. Messi</td>\n",
       "      <td>96.0</td>\n",
       "    </tr>\n",
       "    <tr>\n",
       "      <th>1</th>\n",
       "      <td>Isco</td>\n",
       "      <td>95.0</td>\n",
       "    </tr>\n",
       "    <tr>\n",
       "      <th>2</th>\n",
       "      <td>Neymar Jr</td>\n",
       "      <td>95.0</td>\n",
       "    </tr>\n",
       "    <tr>\n",
       "      <th>3</th>\n",
       "      <td>Cristiano Ronaldo</td>\n",
       "      <td>94.0</td>\n",
       "    </tr>\n",
       "    <tr>\n",
       "      <th>4</th>\n",
       "      <td>David Silva</td>\n",
       "      <td>94.0</td>\n",
       "    </tr>\n",
       "    <tr>\n",
       "      <th>5</th>\n",
       "      <td>E. Hazard</td>\n",
       "      <td>94.0</td>\n",
       "    </tr>\n",
       "    <tr>\n",
       "      <th>6</th>\n",
       "      <td>L. Modri?</td>\n",
       "      <td>93.0</td>\n",
       "    </tr>\n",
       "    <tr>\n",
       "      <th>7</th>\n",
       "      <td>L. Insigne</td>\n",
       "      <td>93.0</td>\n",
       "    </tr>\n",
       "    <tr>\n",
       "      <th>8</th>\n",
       "      <td>Marcelo</td>\n",
       "      <td>92.0</td>\n",
       "    </tr>\n",
       "    <tr>\n",
       "      <th>9</th>\n",
       "      <td>P. Dybala</td>\n",
       "      <td>92.0</td>\n",
       "    </tr>\n",
       "  </tbody>\n",
       "</table>\n",
       "</div>"
      ],
      "text/plain": [
       "                Name  BallControl\n",
       "0           L. Messi         96.0\n",
       "1               Isco         95.0\n",
       "2          Neymar Jr         95.0\n",
       "3  Cristiano Ronaldo         94.0\n",
       "4        David Silva         94.0\n",
       "5          E. Hazard         94.0\n",
       "6          L. Modri?         93.0\n",
       "7         L. Insigne         93.0\n",
       "8            Marcelo         92.0\n",
       "9          P. Dybala         92.0"
      ]
     },
     "execution_count": 63,
     "metadata": {},
     "output_type": "execute_result"
    }
   ],
   "source": [
    "best_ball_control=df.groupby(['Name'])['BallControl'].max().sort_values(ascending=False).head(10).reset_index()\n",
    "best_ball_control"
   ]
  },
  {
   "cell_type": "markdown",
   "id": "2f6b187e-51e2-4d58-9285-5bf71a2ca12f",
   "metadata": {},
   "source": [
    "Who are the fastest players on the planet?"
   ]
  },
  {
   "cell_type": "code",
   "execution_count": 64,
   "id": "588e98a0-266a-4ccf-ae21-d9e6c10660dd",
   "metadata": {},
   "outputs": [
    {
     "data": {
      "text/html": [
       "<div>\n",
       "<style scoped>\n",
       "    .dataframe tbody tr th:only-of-type {\n",
       "        vertical-align: middle;\n",
       "    }\n",
       "\n",
       "    .dataframe tbody tr th {\n",
       "        vertical-align: top;\n",
       "    }\n",
       "\n",
       "    .dataframe thead th {\n",
       "        text-align: right;\n",
       "    }\n",
       "</style>\n",
       "<table border=\"1\" class=\"dataframe\">\n",
       "  <thead>\n",
       "    <tr style=\"text-align: right;\">\n",
       "      <th></th>\n",
       "      <th>Name</th>\n",
       "      <th>SprintSpeed</th>\n",
       "    </tr>\n",
       "  </thead>\n",
       "  <tbody>\n",
       "    <tr>\n",
       "      <th>0</th>\n",
       "      <td>L. Sané</td>\n",
       "      <td>96.0</td>\n",
       "    </tr>\n",
       "    <tr>\n",
       "      <th>1</th>\n",
       "      <td>K. Mbappé</td>\n",
       "      <td>96.0</td>\n",
       "    </tr>\n",
       "    <tr>\n",
       "      <th>2</th>\n",
       "      <td>Adama</td>\n",
       "      <td>96.0</td>\n",
       "    </tr>\n",
       "    <tr>\n",
       "      <th>3</th>\n",
       "      <td>J. Damm</td>\n",
       "      <td>95.0</td>\n",
       "    </tr>\n",
       "    <tr>\n",
       "      <th>4</th>\n",
       "      <td>P. Aubameyang</td>\n",
       "      <td>95.0</td>\n",
       "    </tr>\n",
       "    <tr>\n",
       "      <th>5</th>\n",
       "      <td>I. Bebou</td>\n",
       "      <td>95.0</td>\n",
       "    </tr>\n",
       "    <tr>\n",
       "      <th>6</th>\n",
       "      <td>G. Bale</td>\n",
       "      <td>95.0</td>\n",
       "    </tr>\n",
       "    <tr>\n",
       "      <th>7</th>\n",
       "      <td>Maicon</td>\n",
       "      <td>95.0</td>\n",
       "    </tr>\n",
       "    <tr>\n",
       "      <th>8</th>\n",
       "      <td>D. Cole</td>\n",
       "      <td>94.0</td>\n",
       "    </tr>\n",
       "    <tr>\n",
       "      <th>9</th>\n",
       "      <td>E. Knudtzon</td>\n",
       "      <td>94.0</td>\n",
       "    </tr>\n",
       "  </tbody>\n",
       "</table>\n",
       "</div>"
      ],
      "text/plain": [
       "            Name  SprintSpeed\n",
       "0        L. Sané         96.0\n",
       "1      K. Mbappé         96.0\n",
       "2          Adama         96.0\n",
       "3        J. Damm         95.0\n",
       "4  P. Aubameyang         95.0\n",
       "5       I. Bebou         95.0\n",
       "6        G. Bale         95.0\n",
       "7         Maicon         95.0\n",
       "8        D. Cole         94.0\n",
       "9    E. Knudtzon         94.0"
      ]
     },
     "execution_count": 64,
     "metadata": {},
     "output_type": "execute_result"
    }
   ],
   "source": [
    "fastest_players = df.groupby(['Name'])['SprintSpeed'].max().sort_values(ascending=False).head(10).reset_index()\n",
    "fastest_players"
   ]
  },
  {
   "cell_type": "markdown",
   "id": "03cb484a-1887-4372-8c1f-a1f04e35bb62",
   "metadata": {},
   "source": [
    "Who is the best dribbler?"
   ]
  },
  {
   "cell_type": "code",
   "execution_count": 65,
   "id": "09dc8a19-7f1e-4bcd-b7d1-f5fe7cf83ec5",
   "metadata": {},
   "outputs": [
    {
     "data": {
      "text/html": [
       "<div>\n",
       "<style scoped>\n",
       "    .dataframe tbody tr th:only-of-type {\n",
       "        vertical-align: middle;\n",
       "    }\n",
       "\n",
       "    .dataframe tbody tr th {\n",
       "        vertical-align: top;\n",
       "    }\n",
       "\n",
       "    .dataframe thead th {\n",
       "        text-align: right;\n",
       "    }\n",
       "</style>\n",
       "<table border=\"1\" class=\"dataframe\">\n",
       "  <thead>\n",
       "    <tr style=\"text-align: right;\">\n",
       "      <th></th>\n",
       "      <th>Name</th>\n",
       "      <th>Dribbling</th>\n",
       "    </tr>\n",
       "  </thead>\n",
       "  <tbody>\n",
       "    <tr>\n",
       "      <th>0</th>\n",
       "      <td>L. Messi</td>\n",
       "      <td>97.0</td>\n",
       "    </tr>\n",
       "    <tr>\n",
       "      <th>1</th>\n",
       "      <td>Neymar Jr</td>\n",
       "      <td>96.0</td>\n",
       "    </tr>\n",
       "    <tr>\n",
       "      <th>2</th>\n",
       "      <td>E. Hazard</td>\n",
       "      <td>95.0</td>\n",
       "    </tr>\n",
       "    <tr>\n",
       "      <th>3</th>\n",
       "      <td>Isco</td>\n",
       "      <td>94.0</td>\n",
       "    </tr>\n",
       "    <tr>\n",
       "      <th>4</th>\n",
       "      <td>Y. Brahimi</td>\n",
       "      <td>93.0</td>\n",
       "    </tr>\n",
       "    <tr>\n",
       "      <th>5</th>\n",
       "      <td>Bernardo Silva</td>\n",
       "      <td>92.0</td>\n",
       "    </tr>\n",
       "    <tr>\n",
       "      <th>6</th>\n",
       "      <td>P. Dybala</td>\n",
       "      <td>92.0</td>\n",
       "    </tr>\n",
       "    <tr>\n",
       "      <th>7</th>\n",
       "      <td>Douglas Costa</td>\n",
       "      <td>92.0</td>\n",
       "    </tr>\n",
       "    <tr>\n",
       "      <th>8</th>\n",
       "      <td>Coutinho</td>\n",
       "      <td>91.0</td>\n",
       "    </tr>\n",
       "    <tr>\n",
       "      <th>9</th>\n",
       "      <td>R. Mahrez</td>\n",
       "      <td>91.0</td>\n",
       "    </tr>\n",
       "  </tbody>\n",
       "</table>\n",
       "</div>"
      ],
      "text/plain": [
       "             Name  Dribbling\n",
       "0        L. Messi       97.0\n",
       "1       Neymar Jr       96.0\n",
       "2       E. Hazard       95.0\n",
       "3            Isco       94.0\n",
       "4      Y. Brahimi       93.0\n",
       "5  Bernardo Silva       92.0\n",
       "6       P. Dybala       92.0\n",
       "7   Douglas Costa       92.0\n",
       "8        Coutinho       91.0\n",
       "9       R. Mahrez       91.0"
      ]
     },
     "execution_count": 65,
     "metadata": {},
     "output_type": "execute_result"
    }
   ],
   "source": [
    "best_dribbler=df.groupby(['Name'])['Dribbling'].max().sort_values(ascending=False).head(10).reset_index()\n",
    "best_dribbler"
   ]
  },
  {
   "cell_type": "markdown",
   "id": "4de29296-6be7-4e59-a761-6e83b81693dd",
   "metadata": {},
   "source": [
    "Who is the best finisher?"
   ]
  },
  {
   "cell_type": "code",
   "execution_count": 66,
   "id": "e5202afe-2c3f-462b-86cc-ab78c5f7dfdd",
   "metadata": {},
   "outputs": [
    {
     "data": {
      "text/html": [
       "<div>\n",
       "<style scoped>\n",
       "    .dataframe tbody tr th:only-of-type {\n",
       "        vertical-align: middle;\n",
       "    }\n",
       "\n",
       "    .dataframe tbody tr th {\n",
       "        vertical-align: top;\n",
       "    }\n",
       "\n",
       "    .dataframe thead th {\n",
       "        text-align: right;\n",
       "    }\n",
       "</style>\n",
       "<table border=\"1\" class=\"dataframe\">\n",
       "  <thead>\n",
       "    <tr style=\"text-align: right;\">\n",
       "      <th></th>\n",
       "      <th>Name</th>\n",
       "      <th>Finishing</th>\n",
       "    </tr>\n",
       "  </thead>\n",
       "  <tbody>\n",
       "    <tr>\n",
       "      <th>0</th>\n",
       "      <td>L. Messi</td>\n",
       "      <td>95.0</td>\n",
       "    </tr>\n",
       "    <tr>\n",
       "      <th>1</th>\n",
       "      <td>H. Kane</td>\n",
       "      <td>94.0</td>\n",
       "    </tr>\n",
       "    <tr>\n",
       "      <th>2</th>\n",
       "      <td>Cristiano Ronaldo</td>\n",
       "      <td>94.0</td>\n",
       "    </tr>\n",
       "    <tr>\n",
       "      <th>3</th>\n",
       "      <td>L. Suárez</td>\n",
       "      <td>93.0</td>\n",
       "    </tr>\n",
       "    <tr>\n",
       "      <th>4</th>\n",
       "      <td>S. Agüero</td>\n",
       "      <td>93.0</td>\n",
       "    </tr>\n",
       "    <tr>\n",
       "      <th>5</th>\n",
       "      <td>G. Higuaín</td>\n",
       "      <td>92.0</td>\n",
       "    </tr>\n",
       "    <tr>\n",
       "      <th>6</th>\n",
       "      <td>M. Icardi</td>\n",
       "      <td>91.0</td>\n",
       "    </tr>\n",
       "    <tr>\n",
       "      <th>7</th>\n",
       "      <td>R. Lewandowski</td>\n",
       "      <td>91.0</td>\n",
       "    </tr>\n",
       "    <tr>\n",
       "      <th>8</th>\n",
       "      <td>A. Griezmann</td>\n",
       "      <td>90.0</td>\n",
       "    </tr>\n",
       "    <tr>\n",
       "      <th>9</th>\n",
       "      <td>M. Salah</td>\n",
       "      <td>90.0</td>\n",
       "    </tr>\n",
       "  </tbody>\n",
       "</table>\n",
       "</div>"
      ],
      "text/plain": [
       "                Name  Finishing\n",
       "0           L. Messi       95.0\n",
       "1            H. Kane       94.0\n",
       "2  Cristiano Ronaldo       94.0\n",
       "3          L. Suárez       93.0\n",
       "4          S. Agüero       93.0\n",
       "5         G. Higuaín       92.0\n",
       "6          M. Icardi       91.0\n",
       "7     R. Lewandowski       91.0\n",
       "8       A. Griezmann       90.0\n",
       "9           M. Salah       90.0"
      ]
     },
     "execution_count": 66,
     "metadata": {},
     "output_type": "execute_result"
    }
   ],
   "source": [
    "best_finisher=df.groupby(['Name'])['Finishing'].max().sort_values(ascending=False).head(10).reset_index()\n",
    "best_finisher"
   ]
  },
  {
   "cell_type": "code",
   "execution_count": 67,
   "id": "39ad99c2-6af9-4d13-bc1f-e596ef919f87",
   "metadata": {},
   "outputs": [
    {
     "data": {
      "text/plain": [
       "Index(['ID', 'Name', 'Age', 'Photo', 'Nationality', 'Flag', 'Overall',\n",
       "       'Potential', 'Club', 'Club Logo', 'Value', 'Wage', 'Special',\n",
       "       'Preferred Foot', 'International Reputation', 'Weak Foot',\n",
       "       'Skill Moves', 'Work Rate', 'Body Type', 'Real Face', 'Position',\n",
       "       'Jersey Number', 'Joined', 'Loaned From', 'Contract Valid Until',\n",
       "       'Height', 'Weight', 'LS', 'ST', 'RS', 'LW', 'LF', 'CF', 'RF', 'RW',\n",
       "       'LAM', 'CAM', 'RAM', 'LM', 'LCM', 'CM', 'RCM', 'RM', 'LWB', 'LDM',\n",
       "       'CDM', 'RDM', 'RWB', 'LB', 'LCB', 'CB', 'RCB', 'RB', 'Crossing',\n",
       "       'Finishing', 'HeadingAccuracy', 'ShortPassing', 'Volleys', 'Dribbling',\n",
       "       'Curve', 'FKAccuracy', 'LongPassing', 'BallControl', 'Acceleration',\n",
       "       'SprintSpeed', 'Agility', 'Reactions', 'Balance', 'ShotPower',\n",
       "       'Jumping', 'Stamina', 'Strength', 'LongShots', 'Aggression',\n",
       "       'Interceptions', 'Positioning', 'Vision', 'Penalties', 'Composure',\n",
       "       'Marking', 'StandingTackle', 'SlidingTackle', 'GKDiving', 'GKHandling',\n",
       "       'GKKicking', 'GKPositioning', 'GKReflexes', 'Release Clause'],\n",
       "      dtype='object')"
      ]
     },
     "execution_count": 67,
     "metadata": {},
     "output_type": "execute_result"
    }
   ],
   "source": [
    "df.columns"
   ]
  },
  {
   "cell_type": "markdown",
   "id": "8413b536-1a1a-4dad-99b7-d71414d6e757",
   "metadata": {},
   "source": [
    "Seggregate Indian players"
   ]
  },
  {
   "cell_type": "code",
   "execution_count": 68,
   "id": "f4b6e0c8-07c6-4ca8-8c54-24bc67c90038",
   "metadata": {},
   "outputs": [
    {
     "data": {
      "text/html": [
       "<div>\n",
       "<style scoped>\n",
       "    .dataframe tbody tr th:only-of-type {\n",
       "        vertical-align: middle;\n",
       "    }\n",
       "\n",
       "    .dataframe tbody tr th {\n",
       "        vertical-align: top;\n",
       "    }\n",
       "\n",
       "    .dataframe thead th {\n",
       "        text-align: right;\n",
       "    }\n",
       "</style>\n",
       "<table border=\"1\" class=\"dataframe\">\n",
       "  <thead>\n",
       "    <tr style=\"text-align: right;\">\n",
       "      <th></th>\n",
       "      <th>ID</th>\n",
       "      <th>Name</th>\n",
       "      <th>Age</th>\n",
       "      <th>Photo</th>\n",
       "      <th>Nationality</th>\n",
       "      <th>Flag</th>\n",
       "      <th>Overall</th>\n",
       "      <th>Potential</th>\n",
       "      <th>Club</th>\n",
       "      <th>Club Logo</th>\n",
       "      <th>...</th>\n",
       "      <th>Composure</th>\n",
       "      <th>Marking</th>\n",
       "      <th>StandingTackle</th>\n",
       "      <th>SlidingTackle</th>\n",
       "      <th>GKDiving</th>\n",
       "      <th>GKHandling</th>\n",
       "      <th>GKKicking</th>\n",
       "      <th>GKPositioning</th>\n",
       "      <th>GKReflexes</th>\n",
       "      <th>Release Clause</th>\n",
       "    </tr>\n",
       "  </thead>\n",
       "  <tbody>\n",
       "    <tr>\n",
       "      <th>8605</th>\n",
       "      <td>190939</td>\n",
       "      <td>S. Chhetri</td>\n",
       "      <td>33.0</td>\n",
       "      <td>https://cdn.sofifa.org/players/4/19/190939.png</td>\n",
       "      <td>India</td>\n",
       "      <td>https://cdn.sofifa.org/flags/159.png</td>\n",
       "      <td>67.0</td>\n",
       "      <td>67</td>\n",
       "      <td>AS Monaco</td>\n",
       "      <td>https://cdn.sofifa.org/flags/159.png</td>\n",
       "      <td>...</td>\n",
       "      <td>67.0</td>\n",
       "      <td>30.0</td>\n",
       "      <td>24.0</td>\n",
       "      <td>44.0</td>\n",
       "      <td>10.0</td>\n",
       "      <td>7.0</td>\n",
       "      <td>11.0</td>\n",
       "      <td>9.0</td>\n",
       "      <td>10.0</td>\n",
       "      <td>1.1M</td>\n",
       "    </tr>\n",
       "    <tr>\n",
       "      <th>10011</th>\n",
       "      <td>223763</td>\n",
       "      <td>S. Jhingan</td>\n",
       "      <td>24.0</td>\n",
       "      <td>https://cdn.sofifa.org/players/4/19/223763.png</td>\n",
       "      <td>India</td>\n",
       "      <td>https://cdn.sofifa.org/flags/159.png</td>\n",
       "      <td>65.0</td>\n",
       "      <td>71</td>\n",
       "      <td>AS Monaco</td>\n",
       "      <td>https://cdn.sofifa.org/flags/159.png</td>\n",
       "      <td>...</td>\n",
       "      <td>64.0</td>\n",
       "      <td>64.0</td>\n",
       "      <td>61.0</td>\n",
       "      <td>60.0</td>\n",
       "      <td>13.0</td>\n",
       "      <td>11.0</td>\n",
       "      <td>7.0</td>\n",
       "      <td>11.0</td>\n",
       "      <td>12.0</td>\n",
       "      <td>1.1M</td>\n",
       "    </tr>\n",
       "    <tr>\n",
       "      <th>12598</th>\n",
       "      <td>217225</td>\n",
       "      <td>J. Lalpekhlua</td>\n",
       "      <td>27.0</td>\n",
       "      <td>https://cdn.sofifa.org/players/4/19/217225.png</td>\n",
       "      <td>India</td>\n",
       "      <td>https://cdn.sofifa.org/flags/159.png</td>\n",
       "      <td>63.0</td>\n",
       "      <td>64</td>\n",
       "      <td>AS Monaco</td>\n",
       "      <td>https://cdn.sofifa.org/flags/159.png</td>\n",
       "      <td>...</td>\n",
       "      <td>47.0</td>\n",
       "      <td>28.0</td>\n",
       "      <td>31.0</td>\n",
       "      <td>29.0</td>\n",
       "      <td>13.0</td>\n",
       "      <td>11.0</td>\n",
       "      <td>10.0</td>\n",
       "      <td>10.0</td>\n",
       "      <td>11.0</td>\n",
       "      <td>1.1M</td>\n",
       "    </tr>\n",
       "    <tr>\n",
       "      <th>12811</th>\n",
       "      <td>225213</td>\n",
       "      <td>G. Singh Sandhu</td>\n",
       "      <td>26.0</td>\n",
       "      <td>https://cdn.sofifa.org/players/4/19/225213.png</td>\n",
       "      <td>India</td>\n",
       "      <td>https://cdn.sofifa.org/flags/159.png</td>\n",
       "      <td>63.0</td>\n",
       "      <td>68</td>\n",
       "      <td>AS Monaco</td>\n",
       "      <td>https://cdn.sofifa.org/flags/159.png</td>\n",
       "      <td>...</td>\n",
       "      <td>57.0</td>\n",
       "      <td>19.0</td>\n",
       "      <td>15.0</td>\n",
       "      <td>11.0</td>\n",
       "      <td>63.0</td>\n",
       "      <td>59.0</td>\n",
       "      <td>59.0</td>\n",
       "      <td>62.0</td>\n",
       "      <td>64.0</td>\n",
       "      <td>1.1M</td>\n",
       "    </tr>\n",
       "    <tr>\n",
       "      <th>13508</th>\n",
       "      <td>238205</td>\n",
       "      <td>A. Edathodika</td>\n",
       "      <td>31.0</td>\n",
       "      <td>https://cdn.sofifa.org/players/4/19/238205.png</td>\n",
       "      <td>India</td>\n",
       "      <td>https://cdn.sofifa.org/flags/159.png</td>\n",
       "      <td>62.0</td>\n",
       "      <td>62</td>\n",
       "      <td>AS Monaco</td>\n",
       "      <td>https://cdn.sofifa.org/flags/159.png</td>\n",
       "      <td>...</td>\n",
       "      <td>49.0</td>\n",
       "      <td>67.0</td>\n",
       "      <td>62.0</td>\n",
       "      <td>68.0</td>\n",
       "      <td>14.0</td>\n",
       "      <td>15.0</td>\n",
       "      <td>14.0</td>\n",
       "      <td>11.0</td>\n",
       "      <td>7.0</td>\n",
       "      <td>1.1M</td>\n",
       "    </tr>\n",
       "    <tr>\n",
       "      <th>14054</th>\n",
       "      <td>231461</td>\n",
       "      <td>P. Halder</td>\n",
       "      <td>25.0</td>\n",
       "      <td>https://cdn.sofifa.org/players/4/19/231461.png</td>\n",
       "      <td>India</td>\n",
       "      <td>https://cdn.sofifa.org/flags/159.png</td>\n",
       "      <td>61.0</td>\n",
       "      <td>67</td>\n",
       "      <td>AS Monaco</td>\n",
       "      <td>https://cdn.sofifa.org/flags/159.png</td>\n",
       "      <td>...</td>\n",
       "      <td>57.0</td>\n",
       "      <td>60.0</td>\n",
       "      <td>57.0</td>\n",
       "      <td>56.0</td>\n",
       "      <td>6.0</td>\n",
       "      <td>8.0</td>\n",
       "      <td>14.0</td>\n",
       "      <td>7.0</td>\n",
       "      <td>6.0</td>\n",
       "      <td>1.1M</td>\n",
       "    </tr>\n",
       "    <tr>\n",
       "      <th>14199</th>\n",
       "      <td>228188</td>\n",
       "      <td>P. Kotal</td>\n",
       "      <td>24.0</td>\n",
       "      <td>https://cdn.sofifa.org/players/4/19/228188.png</td>\n",
       "      <td>India</td>\n",
       "      <td>https://cdn.sofifa.org/flags/159.png</td>\n",
       "      <td>61.0</td>\n",
       "      <td>66</td>\n",
       "      <td>AS Monaco</td>\n",
       "      <td>https://cdn.sofifa.org/flags/159.png</td>\n",
       "      <td>...</td>\n",
       "      <td>55.0</td>\n",
       "      <td>63.0</td>\n",
       "      <td>58.0</td>\n",
       "      <td>60.0</td>\n",
       "      <td>10.0</td>\n",
       "      <td>7.0</td>\n",
       "      <td>11.0</td>\n",
       "      <td>12.0</td>\n",
       "      <td>8.0</td>\n",
       "      <td>1.1M</td>\n",
       "    </tr>\n",
       "    <tr>\n",
       "      <th>14218</th>\n",
       "      <td>208485</td>\n",
       "      <td>L. Ralte</td>\n",
       "      <td>25.0</td>\n",
       "      <td>https://cdn.sofifa.org/players/4/19/208485.png</td>\n",
       "      <td>India</td>\n",
       "      <td>https://cdn.sofifa.org/flags/159.png</td>\n",
       "      <td>61.0</td>\n",
       "      <td>62</td>\n",
       "      <td>AS Monaco</td>\n",
       "      <td>https://cdn.sofifa.org/flags/159.png</td>\n",
       "      <td>...</td>\n",
       "      <td>54.0</td>\n",
       "      <td>36.0</td>\n",
       "      <td>29.0</td>\n",
       "      <td>27.0</td>\n",
       "      <td>9.0</td>\n",
       "      <td>13.0</td>\n",
       "      <td>8.0</td>\n",
       "      <td>9.0</td>\n",
       "      <td>8.0</td>\n",
       "      <td>1.1M</td>\n",
       "    </tr>\n",
       "    <tr>\n",
       "      <th>14705</th>\n",
       "      <td>223764</td>\n",
       "      <td>N. Das</td>\n",
       "      <td>24.0</td>\n",
       "      <td>https://cdn.sofifa.org/players/4/19/223764.png</td>\n",
       "      <td>India</td>\n",
       "      <td>https://cdn.sofifa.org/flags/159.png</td>\n",
       "      <td>60.0</td>\n",
       "      <td>65</td>\n",
       "      <td>AS Monaco</td>\n",
       "      <td>https://cdn.sofifa.org/flags/159.png</td>\n",
       "      <td>...</td>\n",
       "      <td>57.0</td>\n",
       "      <td>62.0</td>\n",
       "      <td>67.0</td>\n",
       "      <td>60.0</td>\n",
       "      <td>14.0</td>\n",
       "      <td>9.0</td>\n",
       "      <td>12.0</td>\n",
       "      <td>10.0</td>\n",
       "      <td>11.0</td>\n",
       "      <td>1.1M</td>\n",
       "    </tr>\n",
       "    <tr>\n",
       "      <th>14786</th>\n",
       "      <td>233524</td>\n",
       "      <td>U. Singh</td>\n",
       "      <td>22.0</td>\n",
       "      <td>https://cdn.sofifa.org/players/4/19/233524.png</td>\n",
       "      <td>India</td>\n",
       "      <td>https://cdn.sofifa.org/flags/159.png</td>\n",
       "      <td>60.0</td>\n",
       "      <td>67</td>\n",
       "      <td>AS Monaco</td>\n",
       "      <td>https://cdn.sofifa.org/flags/159.png</td>\n",
       "      <td>...</td>\n",
       "      <td>56.0</td>\n",
       "      <td>24.0</td>\n",
       "      <td>32.0</td>\n",
       "      <td>31.0</td>\n",
       "      <td>11.0</td>\n",
       "      <td>8.0</td>\n",
       "      <td>5.0</td>\n",
       "      <td>12.0</td>\n",
       "      <td>7.0</td>\n",
       "      <td>1.1M</td>\n",
       "    </tr>\n",
       "    <tr>\n",
       "      <th>14915</th>\n",
       "      <td>228199</td>\n",
       "      <td>H. Narzary</td>\n",
       "      <td>24.0</td>\n",
       "      <td>https://cdn.sofifa.org/players/4/19/228199.png</td>\n",
       "      <td>India</td>\n",
       "      <td>https://cdn.sofifa.org/flags/159.png</td>\n",
       "      <td>60.0</td>\n",
       "      <td>66</td>\n",
       "      <td>AS Monaco</td>\n",
       "      <td>https://cdn.sofifa.org/flags/159.png</td>\n",
       "      <td>...</td>\n",
       "      <td>52.0</td>\n",
       "      <td>16.0</td>\n",
       "      <td>21.0</td>\n",
       "      <td>19.0</td>\n",
       "      <td>7.0</td>\n",
       "      <td>12.0</td>\n",
       "      <td>11.0</td>\n",
       "      <td>13.0</td>\n",
       "      <td>8.0</td>\n",
       "      <td>1.1M</td>\n",
       "    </tr>\n",
       "    <tr>\n",
       "      <th>15356</th>\n",
       "      <td>212502</td>\n",
       "      <td>R. Singh</td>\n",
       "      <td>28.0</td>\n",
       "      <td>https://cdn.sofifa.org/players/4/19/212502.png</td>\n",
       "      <td>India</td>\n",
       "      <td>https://cdn.sofifa.org/flags/159.png</td>\n",
       "      <td>59.0</td>\n",
       "      <td>59</td>\n",
       "      <td>AS Monaco</td>\n",
       "      <td>https://cdn.sofifa.org/flags/159.png</td>\n",
       "      <td>...</td>\n",
       "      <td>46.0</td>\n",
       "      <td>20.0</td>\n",
       "      <td>16.0</td>\n",
       "      <td>15.0</td>\n",
       "      <td>13.0</td>\n",
       "      <td>11.0</td>\n",
       "      <td>9.0</td>\n",
       "      <td>13.0</td>\n",
       "      <td>11.0</td>\n",
       "      <td>1.1M</td>\n",
       "    </tr>\n",
       "    <tr>\n",
       "      <th>15643</th>\n",
       "      <td>245166</td>\n",
       "      <td>S. Singh</td>\n",
       "      <td>22.0</td>\n",
       "      <td>https://cdn.sofifa.org/players/4/19/245166.png</td>\n",
       "      <td>India</td>\n",
       "      <td>https://cdn.sofifa.org/flags/159.png</td>\n",
       "      <td>59.0</td>\n",
       "      <td>65</td>\n",
       "      <td>AS Monaco</td>\n",
       "      <td>https://cdn.sofifa.org/flags/159.png</td>\n",
       "      <td>...</td>\n",
       "      <td>42.0</td>\n",
       "      <td>58.0</td>\n",
       "      <td>63.0</td>\n",
       "      <td>61.0</td>\n",
       "      <td>7.0</td>\n",
       "      <td>12.0</td>\n",
       "      <td>14.0</td>\n",
       "      <td>13.0</td>\n",
       "      <td>11.0</td>\n",
       "      <td>1.1M</td>\n",
       "    </tr>\n",
       "    <tr>\n",
       "      <th>15652</th>\n",
       "      <td>245170</td>\n",
       "      <td>A. Thapa</td>\n",
       "      <td>20.0</td>\n",
       "      <td>https://cdn.sofifa.org/players/4/19/245170.png</td>\n",
       "      <td>India</td>\n",
       "      <td>https://cdn.sofifa.org/flags/159.png</td>\n",
       "      <td>59.0</td>\n",
       "      <td>71</td>\n",
       "      <td>AS Monaco</td>\n",
       "      <td>https://cdn.sofifa.org/flags/159.png</td>\n",
       "      <td>...</td>\n",
       "      <td>60.0</td>\n",
       "      <td>47.0</td>\n",
       "      <td>56.0</td>\n",
       "      <td>49.0</td>\n",
       "      <td>9.0</td>\n",
       "      <td>13.0</td>\n",
       "      <td>6.0</td>\n",
       "      <td>14.0</td>\n",
       "      <td>11.0</td>\n",
       "      <td>1.1M</td>\n",
       "    </tr>\n",
       "    <tr>\n",
       "      <th>15855</th>\n",
       "      <td>234507</td>\n",
       "      <td>M. Rafique</td>\n",
       "      <td>25.0</td>\n",
       "      <td>https://cdn.sofifa.org/players/4/19/234507.png</td>\n",
       "      <td>India</td>\n",
       "      <td>https://cdn.sofifa.org/flags/159.png</td>\n",
       "      <td>58.0</td>\n",
       "      <td>61</td>\n",
       "      <td>AS Monaco</td>\n",
       "      <td>https://cdn.sofifa.org/flags/159.png</td>\n",
       "      <td>...</td>\n",
       "      <td>42.0</td>\n",
       "      <td>53.0</td>\n",
       "      <td>63.0</td>\n",
       "      <td>52.0</td>\n",
       "      <td>13.0</td>\n",
       "      <td>13.0</td>\n",
       "      <td>13.0</td>\n",
       "      <td>5.0</td>\n",
       "      <td>7.0</td>\n",
       "      <td>1.1M</td>\n",
       "    </tr>\n",
       "    <tr>\n",
       "      <th>15864</th>\n",
       "      <td>223760</td>\n",
       "      <td>A. Singh</td>\n",
       "      <td>25.0</td>\n",
       "      <td>https://cdn.sofifa.org/players/4/19/223760.png</td>\n",
       "      <td>India</td>\n",
       "      <td>https://cdn.sofifa.org/flags/159.png</td>\n",
       "      <td>58.0</td>\n",
       "      <td>62</td>\n",
       "      <td>AS Monaco</td>\n",
       "      <td>https://cdn.sofifa.org/flags/159.png</td>\n",
       "      <td>...</td>\n",
       "      <td>57.0</td>\n",
       "      <td>16.0</td>\n",
       "      <td>17.0</td>\n",
       "      <td>17.0</td>\n",
       "      <td>56.0</td>\n",
       "      <td>53.0</td>\n",
       "      <td>54.0</td>\n",
       "      <td>63.0</td>\n",
       "      <td>60.0</td>\n",
       "      <td>1.1M</td>\n",
       "    </tr>\n",
       "    <tr>\n",
       "      <th>15884</th>\n",
       "      <td>223771</td>\n",
       "      <td>B. Singh</td>\n",
       "      <td>31.0</td>\n",
       "      <td>https://cdn.sofifa.org/players/4/19/223771.png</td>\n",
       "      <td>India</td>\n",
       "      <td>https://cdn.sofifa.org/flags/159.png</td>\n",
       "      <td>58.0</td>\n",
       "      <td>58</td>\n",
       "      <td>AS Monaco</td>\n",
       "      <td>https://cdn.sofifa.org/flags/159.png</td>\n",
       "      <td>...</td>\n",
       "      <td>51.0</td>\n",
       "      <td>23.0</td>\n",
       "      <td>12.0</td>\n",
       "      <td>14.0</td>\n",
       "      <td>10.0</td>\n",
       "      <td>13.0</td>\n",
       "      <td>13.0</td>\n",
       "      <td>6.0</td>\n",
       "      <td>13.0</td>\n",
       "      <td>1.1M</td>\n",
       "    </tr>\n",
       "    <tr>\n",
       "      <th>16135</th>\n",
       "      <td>245165</td>\n",
       "      <td>S. Bose</td>\n",
       "      <td>22.0</td>\n",
       "      <td>https://cdn.sofifa.org/players/4/19/245165.png</td>\n",
       "      <td>India</td>\n",
       "      <td>https://cdn.sofifa.org/flags/159.png</td>\n",
       "      <td>58.0</td>\n",
       "      <td>66</td>\n",
       "      <td>AS Monaco</td>\n",
       "      <td>https://cdn.sofifa.org/flags/159.png</td>\n",
       "      <td>...</td>\n",
       "      <td>52.0</td>\n",
       "      <td>61.0</td>\n",
       "      <td>62.0</td>\n",
       "      <td>60.0</td>\n",
       "      <td>7.0</td>\n",
       "      <td>14.0</td>\n",
       "      <td>13.0</td>\n",
       "      <td>13.0</td>\n",
       "      <td>10.0</td>\n",
       "      <td>1.1M</td>\n",
       "    </tr>\n",
       "    <tr>\n",
       "      <th>16265</th>\n",
       "      <td>231933</td>\n",
       "      <td>R. Borges</td>\n",
       "      <td>26.0</td>\n",
       "      <td>https://cdn.sofifa.org/players/4/19/231933.png</td>\n",
       "      <td>India</td>\n",
       "      <td>https://cdn.sofifa.org/flags/159.png</td>\n",
       "      <td>58.0</td>\n",
       "      <td>60</td>\n",
       "      <td>AS Monaco</td>\n",
       "      <td>https://cdn.sofifa.org/flags/159.png</td>\n",
       "      <td>...</td>\n",
       "      <td>40.0</td>\n",
       "      <td>54.0</td>\n",
       "      <td>56.0</td>\n",
       "      <td>57.0</td>\n",
       "      <td>10.0</td>\n",
       "      <td>7.0</td>\n",
       "      <td>6.0</td>\n",
       "      <td>5.0</td>\n",
       "      <td>6.0</td>\n",
       "      <td>1.1M</td>\n",
       "    </tr>\n",
       "    <tr>\n",
       "      <th>16450</th>\n",
       "      <td>193911</td>\n",
       "      <td>S. Paul</td>\n",
       "      <td>31.0</td>\n",
       "      <td>https://cdn.sofifa.org/players/4/19/193911.png</td>\n",
       "      <td>India</td>\n",
       "      <td>https://cdn.sofifa.org/flags/159.png</td>\n",
       "      <td>57.0</td>\n",
       "      <td>57</td>\n",
       "      <td>AS Monaco</td>\n",
       "      <td>https://cdn.sofifa.org/flags/159.png</td>\n",
       "      <td>...</td>\n",
       "      <td>52.0</td>\n",
       "      <td>12.0</td>\n",
       "      <td>15.0</td>\n",
       "      <td>12.0</td>\n",
       "      <td>53.0</td>\n",
       "      <td>48.0</td>\n",
       "      <td>62.0</td>\n",
       "      <td>57.0</td>\n",
       "      <td>60.0</td>\n",
       "      <td>1.1M</td>\n",
       "    </tr>\n",
       "    <tr>\n",
       "      <th>16499</th>\n",
       "      <td>221588</td>\n",
       "      <td>A. Mondal</td>\n",
       "      <td>28.0</td>\n",
       "      <td>https://cdn.sofifa.org/players/4/19/221588.png</td>\n",
       "      <td>India</td>\n",
       "      <td>https://cdn.sofifa.org/flags/159.png</td>\n",
       "      <td>57.0</td>\n",
       "      <td>57</td>\n",
       "      <td>AS Monaco</td>\n",
       "      <td>https://cdn.sofifa.org/flags/159.png</td>\n",
       "      <td>...</td>\n",
       "      <td>48.0</td>\n",
       "      <td>51.0</td>\n",
       "      <td>55.0</td>\n",
       "      <td>58.0</td>\n",
       "      <td>13.0</td>\n",
       "      <td>15.0</td>\n",
       "      <td>15.0</td>\n",
       "      <td>11.0</td>\n",
       "      <td>10.0</td>\n",
       "      <td>1.1M</td>\n",
       "    </tr>\n",
       "    <tr>\n",
       "      <th>16539</th>\n",
       "      <td>245167</td>\n",
       "      <td>L. Lalruatthara</td>\n",
       "      <td>23.0</td>\n",
       "      <td>https://cdn.sofifa.org/players/4/19/245167.png</td>\n",
       "      <td>India</td>\n",
       "      <td>https://cdn.sofifa.org/flags/159.png</td>\n",
       "      <td>57.0</td>\n",
       "      <td>63</td>\n",
       "      <td>AS Monaco</td>\n",
       "      <td>https://cdn.sofifa.org/flags/159.png</td>\n",
       "      <td>...</td>\n",
       "      <td>57.0</td>\n",
       "      <td>60.0</td>\n",
       "      <td>61.0</td>\n",
       "      <td>57.0</td>\n",
       "      <td>15.0</td>\n",
       "      <td>12.0</td>\n",
       "      <td>11.0</td>\n",
       "      <td>6.0</td>\n",
       "      <td>12.0</td>\n",
       "      <td>1.1M</td>\n",
       "    </tr>\n",
       "    <tr>\n",
       "      <th>16793</th>\n",
       "      <td>228192</td>\n",
       "      <td>E. Lyngdoh</td>\n",
       "      <td>31.0</td>\n",
       "      <td>https://cdn.sofifa.org/players/4/19/228192.png</td>\n",
       "      <td>India</td>\n",
       "      <td>https://cdn.sofifa.org/flags/159.png</td>\n",
       "      <td>56.0</td>\n",
       "      <td>56</td>\n",
       "      <td>AS Monaco</td>\n",
       "      <td>https://cdn.sofifa.org/flags/159.png</td>\n",
       "      <td>...</td>\n",
       "      <td>63.0</td>\n",
       "      <td>43.0</td>\n",
       "      <td>48.0</td>\n",
       "      <td>32.0</td>\n",
       "      <td>7.0</td>\n",
       "      <td>8.0</td>\n",
       "      <td>9.0</td>\n",
       "      <td>15.0</td>\n",
       "      <td>9.0</td>\n",
       "      <td>1.1M</td>\n",
       "    </tr>\n",
       "    <tr>\n",
       "      <th>16903</th>\n",
       "      <td>245169</td>\n",
       "      <td>J. Lalrinzuala</td>\n",
       "      <td>19.0</td>\n",
       "      <td>https://cdn.sofifa.org/players/4/19/245169.png</td>\n",
       "      <td>India</td>\n",
       "      <td>https://cdn.sofifa.org/flags/159.png</td>\n",
       "      <td>56.0</td>\n",
       "      <td>64</td>\n",
       "      <td>AS Monaco</td>\n",
       "      <td>https://cdn.sofifa.org/flags/159.png</td>\n",
       "      <td>...</td>\n",
       "      <td>44.0</td>\n",
       "      <td>57.0</td>\n",
       "      <td>58.0</td>\n",
       "      <td>53.0</td>\n",
       "      <td>10.0</td>\n",
       "      <td>10.0</td>\n",
       "      <td>5.0</td>\n",
       "      <td>14.0</td>\n",
       "      <td>14.0</td>\n",
       "      <td>1.1M</td>\n",
       "    </tr>\n",
       "    <tr>\n",
       "      <th>16976</th>\n",
       "      <td>236774</td>\n",
       "      <td>A. Kuruniyan</td>\n",
       "      <td>21.0</td>\n",
       "      <td>https://cdn.sofifa.org/players/4/19/236774.png</td>\n",
       "      <td>India</td>\n",
       "      <td>https://cdn.sofifa.org/flags/159.png</td>\n",
       "      <td>56.0</td>\n",
       "      <td>70</td>\n",
       "      <td>AS Monaco</td>\n",
       "      <td>https://cdn.sofifa.org/flags/159.png</td>\n",
       "      <td>...</td>\n",
       "      <td>41.0</td>\n",
       "      <td>17.0</td>\n",
       "      <td>15.0</td>\n",
       "      <td>12.0</td>\n",
       "      <td>14.0</td>\n",
       "      <td>10.0</td>\n",
       "      <td>6.0</td>\n",
       "      <td>14.0</td>\n",
       "      <td>8.0</td>\n",
       "      <td>1.1M</td>\n",
       "    </tr>\n",
       "    <tr>\n",
       "      <th>17129</th>\n",
       "      <td>228198</td>\n",
       "      <td>J. Singh</td>\n",
       "      <td>26.0</td>\n",
       "      <td>https://cdn.sofifa.org/players/4/19/228198.png</td>\n",
       "      <td>India</td>\n",
       "      <td>https://cdn.sofifa.org/flags/159.png</td>\n",
       "      <td>55.0</td>\n",
       "      <td>58</td>\n",
       "      <td>AS Monaco</td>\n",
       "      <td>https://cdn.sofifa.org/flags/159.png</td>\n",
       "      <td>...</td>\n",
       "      <td>42.0</td>\n",
       "      <td>26.0</td>\n",
       "      <td>18.0</td>\n",
       "      <td>13.0</td>\n",
       "      <td>15.0</td>\n",
       "      <td>14.0</td>\n",
       "      <td>8.0</td>\n",
       "      <td>10.0</td>\n",
       "      <td>16.0</td>\n",
       "      <td>1.1M</td>\n",
       "    </tr>\n",
       "    <tr>\n",
       "      <th>17197</th>\n",
       "      <td>245164</td>\n",
       "      <td>V. Kaith</td>\n",
       "      <td>21.0</td>\n",
       "      <td>https://cdn.sofifa.org/players/4/19/245164.png</td>\n",
       "      <td>India</td>\n",
       "      <td>https://cdn.sofifa.org/flags/159.png</td>\n",
       "      <td>55.0</td>\n",
       "      <td>64</td>\n",
       "      <td>AS Monaco</td>\n",
       "      <td>https://cdn.sofifa.org/flags/159.png</td>\n",
       "      <td>...</td>\n",
       "      <td>29.0</td>\n",
       "      <td>8.0</td>\n",
       "      <td>12.0</td>\n",
       "      <td>11.0</td>\n",
       "      <td>55.0</td>\n",
       "      <td>50.0</td>\n",
       "      <td>57.0</td>\n",
       "      <td>59.0</td>\n",
       "      <td>53.0</td>\n",
       "      <td>1.1M</td>\n",
       "    </tr>\n",
       "    <tr>\n",
       "      <th>17339</th>\n",
       "      <td>233526</td>\n",
       "      <td>S. Passi</td>\n",
       "      <td>23.0</td>\n",
       "      <td>https://cdn.sofifa.org/players/4/19/233526.png</td>\n",
       "      <td>India</td>\n",
       "      <td>https://cdn.sofifa.org/flags/159.png</td>\n",
       "      <td>54.0</td>\n",
       "      <td>63</td>\n",
       "      <td>AS Monaco</td>\n",
       "      <td>https://cdn.sofifa.org/flags/159.png</td>\n",
       "      <td>...</td>\n",
       "      <td>45.0</td>\n",
       "      <td>14.0</td>\n",
       "      <td>23.0</td>\n",
       "      <td>21.0</td>\n",
       "      <td>8.0</td>\n",
       "      <td>6.0</td>\n",
       "      <td>13.0</td>\n",
       "      <td>9.0</td>\n",
       "      <td>10.0</td>\n",
       "      <td>1.1M</td>\n",
       "    </tr>\n",
       "    <tr>\n",
       "      <th>17436</th>\n",
       "      <td>236452</td>\n",
       "      <td>D. Lalhlimpuia</td>\n",
       "      <td>20.0</td>\n",
       "      <td>https://cdn.sofifa.org/players/4/19/236452.png</td>\n",
       "      <td>India</td>\n",
       "      <td>https://cdn.sofifa.org/flags/159.png</td>\n",
       "      <td>54.0</td>\n",
       "      <td>67</td>\n",
       "      <td>AS Monaco</td>\n",
       "      <td>https://cdn.sofifa.org/flags/159.png</td>\n",
       "      <td>...</td>\n",
       "      <td>46.0</td>\n",
       "      <td>26.0</td>\n",
       "      <td>17.0</td>\n",
       "      <td>13.0</td>\n",
       "      <td>7.0</td>\n",
       "      <td>8.0</td>\n",
       "      <td>12.0</td>\n",
       "      <td>11.0</td>\n",
       "      <td>11.0</td>\n",
       "      <td>1.1M</td>\n",
       "    </tr>\n",
       "    <tr>\n",
       "      <th>17539</th>\n",
       "      <td>234508</td>\n",
       "      <td>C. Singh</td>\n",
       "      <td>21.0</td>\n",
       "      <td>https://cdn.sofifa.org/players/4/19/234508.png</td>\n",
       "      <td>India</td>\n",
       "      <td>https://cdn.sofifa.org/flags/159.png</td>\n",
       "      <td>53.0</td>\n",
       "      <td>62</td>\n",
       "      <td>AS Monaco</td>\n",
       "      <td>https://cdn.sofifa.org/flags/159.png</td>\n",
       "      <td>...</td>\n",
       "      <td>41.0</td>\n",
       "      <td>56.0</td>\n",
       "      <td>49.0</td>\n",
       "      <td>53.0</td>\n",
       "      <td>12.0</td>\n",
       "      <td>9.0</td>\n",
       "      <td>6.0</td>\n",
       "      <td>14.0</td>\n",
       "      <td>8.0</td>\n",
       "      <td>1.1M</td>\n",
       "    </tr>\n",
       "  </tbody>\n",
       "</table>\n",
       "<p>30 rows × 88 columns</p>\n",
       "</div>"
      ],
      "text/plain": [
       "           ID             Name   Age  \\\n",
       "8605   190939       S. Chhetri  33.0   \n",
       "10011  223763       S. Jhingan  24.0   \n",
       "12598  217225    J. Lalpekhlua  27.0   \n",
       "12811  225213  G. Singh Sandhu  26.0   \n",
       "13508  238205    A. Edathodika  31.0   \n",
       "14054  231461        P. Halder  25.0   \n",
       "14199  228188         P. Kotal  24.0   \n",
       "14218  208485         L. Ralte  25.0   \n",
       "14705  223764           N. Das  24.0   \n",
       "14786  233524         U. Singh  22.0   \n",
       "14915  228199       H. Narzary  24.0   \n",
       "15356  212502         R. Singh  28.0   \n",
       "15643  245166         S. Singh  22.0   \n",
       "15652  245170         A. Thapa  20.0   \n",
       "15855  234507       M. Rafique  25.0   \n",
       "15864  223760         A. Singh  25.0   \n",
       "15884  223771         B. Singh  31.0   \n",
       "16135  245165          S. Bose  22.0   \n",
       "16265  231933        R. Borges  26.0   \n",
       "16450  193911          S. Paul  31.0   \n",
       "16499  221588        A. Mondal  28.0   \n",
       "16539  245167  L. Lalruatthara  23.0   \n",
       "16793  228192       E. Lyngdoh  31.0   \n",
       "16903  245169   J. Lalrinzuala  19.0   \n",
       "16976  236774     A. Kuruniyan  21.0   \n",
       "17129  228198         J. Singh  26.0   \n",
       "17197  245164         V. Kaith  21.0   \n",
       "17339  233526         S. Passi  23.0   \n",
       "17436  236452   D. Lalhlimpuia  20.0   \n",
       "17539  234508         C. Singh  21.0   \n",
       "\n",
       "                                                Photo Nationality  \\\n",
       "8605   https://cdn.sofifa.org/players/4/19/190939.png       India   \n",
       "10011  https://cdn.sofifa.org/players/4/19/223763.png       India   \n",
       "12598  https://cdn.sofifa.org/players/4/19/217225.png       India   \n",
       "12811  https://cdn.sofifa.org/players/4/19/225213.png       India   \n",
       "13508  https://cdn.sofifa.org/players/4/19/238205.png       India   \n",
       "14054  https://cdn.sofifa.org/players/4/19/231461.png       India   \n",
       "14199  https://cdn.sofifa.org/players/4/19/228188.png       India   \n",
       "14218  https://cdn.sofifa.org/players/4/19/208485.png       India   \n",
       "14705  https://cdn.sofifa.org/players/4/19/223764.png       India   \n",
       "14786  https://cdn.sofifa.org/players/4/19/233524.png       India   \n",
       "14915  https://cdn.sofifa.org/players/4/19/228199.png       India   \n",
       "15356  https://cdn.sofifa.org/players/4/19/212502.png       India   \n",
       "15643  https://cdn.sofifa.org/players/4/19/245166.png       India   \n",
       "15652  https://cdn.sofifa.org/players/4/19/245170.png       India   \n",
       "15855  https://cdn.sofifa.org/players/4/19/234507.png       India   \n",
       "15864  https://cdn.sofifa.org/players/4/19/223760.png       India   \n",
       "15884  https://cdn.sofifa.org/players/4/19/223771.png       India   \n",
       "16135  https://cdn.sofifa.org/players/4/19/245165.png       India   \n",
       "16265  https://cdn.sofifa.org/players/4/19/231933.png       India   \n",
       "16450  https://cdn.sofifa.org/players/4/19/193911.png       India   \n",
       "16499  https://cdn.sofifa.org/players/4/19/221588.png       India   \n",
       "16539  https://cdn.sofifa.org/players/4/19/245167.png       India   \n",
       "16793  https://cdn.sofifa.org/players/4/19/228192.png       India   \n",
       "16903  https://cdn.sofifa.org/players/4/19/245169.png       India   \n",
       "16976  https://cdn.sofifa.org/players/4/19/236774.png       India   \n",
       "17129  https://cdn.sofifa.org/players/4/19/228198.png       India   \n",
       "17197  https://cdn.sofifa.org/players/4/19/245164.png       India   \n",
       "17339  https://cdn.sofifa.org/players/4/19/233526.png       India   \n",
       "17436  https://cdn.sofifa.org/players/4/19/236452.png       India   \n",
       "17539  https://cdn.sofifa.org/players/4/19/234508.png       India   \n",
       "\n",
       "                                       Flag  Overall  Potential       Club  \\\n",
       "8605   https://cdn.sofifa.org/flags/159.png     67.0         67  AS Monaco   \n",
       "10011  https://cdn.sofifa.org/flags/159.png     65.0         71  AS Monaco   \n",
       "12598  https://cdn.sofifa.org/flags/159.png     63.0         64  AS Monaco   \n",
       "12811  https://cdn.sofifa.org/flags/159.png     63.0         68  AS Monaco   \n",
       "13508  https://cdn.sofifa.org/flags/159.png     62.0         62  AS Monaco   \n",
       "14054  https://cdn.sofifa.org/flags/159.png     61.0         67  AS Monaco   \n",
       "14199  https://cdn.sofifa.org/flags/159.png     61.0         66  AS Monaco   \n",
       "14218  https://cdn.sofifa.org/flags/159.png     61.0         62  AS Monaco   \n",
       "14705  https://cdn.sofifa.org/flags/159.png     60.0         65  AS Monaco   \n",
       "14786  https://cdn.sofifa.org/flags/159.png     60.0         67  AS Monaco   \n",
       "14915  https://cdn.sofifa.org/flags/159.png     60.0         66  AS Monaco   \n",
       "15356  https://cdn.sofifa.org/flags/159.png     59.0         59  AS Monaco   \n",
       "15643  https://cdn.sofifa.org/flags/159.png     59.0         65  AS Monaco   \n",
       "15652  https://cdn.sofifa.org/flags/159.png     59.0         71  AS Monaco   \n",
       "15855  https://cdn.sofifa.org/flags/159.png     58.0         61  AS Monaco   \n",
       "15864  https://cdn.sofifa.org/flags/159.png     58.0         62  AS Monaco   \n",
       "15884  https://cdn.sofifa.org/flags/159.png     58.0         58  AS Monaco   \n",
       "16135  https://cdn.sofifa.org/flags/159.png     58.0         66  AS Monaco   \n",
       "16265  https://cdn.sofifa.org/flags/159.png     58.0         60  AS Monaco   \n",
       "16450  https://cdn.sofifa.org/flags/159.png     57.0         57  AS Monaco   \n",
       "16499  https://cdn.sofifa.org/flags/159.png     57.0         57  AS Monaco   \n",
       "16539  https://cdn.sofifa.org/flags/159.png     57.0         63  AS Monaco   \n",
       "16793  https://cdn.sofifa.org/flags/159.png     56.0         56  AS Monaco   \n",
       "16903  https://cdn.sofifa.org/flags/159.png     56.0         64  AS Monaco   \n",
       "16976  https://cdn.sofifa.org/flags/159.png     56.0         70  AS Monaco   \n",
       "17129  https://cdn.sofifa.org/flags/159.png     55.0         58  AS Monaco   \n",
       "17197  https://cdn.sofifa.org/flags/159.png     55.0         64  AS Monaco   \n",
       "17339  https://cdn.sofifa.org/flags/159.png     54.0         63  AS Monaco   \n",
       "17436  https://cdn.sofifa.org/flags/159.png     54.0         67  AS Monaco   \n",
       "17539  https://cdn.sofifa.org/flags/159.png     53.0         62  AS Monaco   \n",
       "\n",
       "                                  Club Logo  ... Composure Marking  \\\n",
       "8605   https://cdn.sofifa.org/flags/159.png  ...      67.0    30.0   \n",
       "10011  https://cdn.sofifa.org/flags/159.png  ...      64.0    64.0   \n",
       "12598  https://cdn.sofifa.org/flags/159.png  ...      47.0    28.0   \n",
       "12811  https://cdn.sofifa.org/flags/159.png  ...      57.0    19.0   \n",
       "13508  https://cdn.sofifa.org/flags/159.png  ...      49.0    67.0   \n",
       "14054  https://cdn.sofifa.org/flags/159.png  ...      57.0    60.0   \n",
       "14199  https://cdn.sofifa.org/flags/159.png  ...      55.0    63.0   \n",
       "14218  https://cdn.sofifa.org/flags/159.png  ...      54.0    36.0   \n",
       "14705  https://cdn.sofifa.org/flags/159.png  ...      57.0    62.0   \n",
       "14786  https://cdn.sofifa.org/flags/159.png  ...      56.0    24.0   \n",
       "14915  https://cdn.sofifa.org/flags/159.png  ...      52.0    16.0   \n",
       "15356  https://cdn.sofifa.org/flags/159.png  ...      46.0    20.0   \n",
       "15643  https://cdn.sofifa.org/flags/159.png  ...      42.0    58.0   \n",
       "15652  https://cdn.sofifa.org/flags/159.png  ...      60.0    47.0   \n",
       "15855  https://cdn.sofifa.org/flags/159.png  ...      42.0    53.0   \n",
       "15864  https://cdn.sofifa.org/flags/159.png  ...      57.0    16.0   \n",
       "15884  https://cdn.sofifa.org/flags/159.png  ...      51.0    23.0   \n",
       "16135  https://cdn.sofifa.org/flags/159.png  ...      52.0    61.0   \n",
       "16265  https://cdn.sofifa.org/flags/159.png  ...      40.0    54.0   \n",
       "16450  https://cdn.sofifa.org/flags/159.png  ...      52.0    12.0   \n",
       "16499  https://cdn.sofifa.org/flags/159.png  ...      48.0    51.0   \n",
       "16539  https://cdn.sofifa.org/flags/159.png  ...      57.0    60.0   \n",
       "16793  https://cdn.sofifa.org/flags/159.png  ...      63.0    43.0   \n",
       "16903  https://cdn.sofifa.org/flags/159.png  ...      44.0    57.0   \n",
       "16976  https://cdn.sofifa.org/flags/159.png  ...      41.0    17.0   \n",
       "17129  https://cdn.sofifa.org/flags/159.png  ...      42.0    26.0   \n",
       "17197  https://cdn.sofifa.org/flags/159.png  ...      29.0     8.0   \n",
       "17339  https://cdn.sofifa.org/flags/159.png  ...      45.0    14.0   \n",
       "17436  https://cdn.sofifa.org/flags/159.png  ...      46.0    26.0   \n",
       "17539  https://cdn.sofifa.org/flags/159.png  ...      41.0    56.0   \n",
       "\n",
       "       StandingTackle SlidingTackle  GKDiving  GKHandling  GKKicking  \\\n",
       "8605             24.0          44.0      10.0         7.0       11.0   \n",
       "10011            61.0          60.0      13.0        11.0        7.0   \n",
       "12598            31.0          29.0      13.0        11.0       10.0   \n",
       "12811            15.0          11.0      63.0        59.0       59.0   \n",
       "13508            62.0          68.0      14.0        15.0       14.0   \n",
       "14054            57.0          56.0       6.0         8.0       14.0   \n",
       "14199            58.0          60.0      10.0         7.0       11.0   \n",
       "14218            29.0          27.0       9.0        13.0        8.0   \n",
       "14705            67.0          60.0      14.0         9.0       12.0   \n",
       "14786            32.0          31.0      11.0         8.0        5.0   \n",
       "14915            21.0          19.0       7.0        12.0       11.0   \n",
       "15356            16.0          15.0      13.0        11.0        9.0   \n",
       "15643            63.0          61.0       7.0        12.0       14.0   \n",
       "15652            56.0          49.0       9.0        13.0        6.0   \n",
       "15855            63.0          52.0      13.0        13.0       13.0   \n",
       "15864            17.0          17.0      56.0        53.0       54.0   \n",
       "15884            12.0          14.0      10.0        13.0       13.0   \n",
       "16135            62.0          60.0       7.0        14.0       13.0   \n",
       "16265            56.0          57.0      10.0         7.0        6.0   \n",
       "16450            15.0          12.0      53.0        48.0       62.0   \n",
       "16499            55.0          58.0      13.0        15.0       15.0   \n",
       "16539            61.0          57.0      15.0        12.0       11.0   \n",
       "16793            48.0          32.0       7.0         8.0        9.0   \n",
       "16903            58.0          53.0      10.0        10.0        5.0   \n",
       "16976            15.0          12.0      14.0        10.0        6.0   \n",
       "17129            18.0          13.0      15.0        14.0        8.0   \n",
       "17197            12.0          11.0      55.0        50.0       57.0   \n",
       "17339            23.0          21.0       8.0         6.0       13.0   \n",
       "17436            17.0          13.0       7.0         8.0       12.0   \n",
       "17539            49.0          53.0      12.0         9.0        6.0   \n",
       "\n",
       "      GKPositioning GKReflexes Release Clause  \n",
       "8605            9.0       10.0          1.1M  \n",
       "10011          11.0       12.0          1.1M  \n",
       "12598          10.0       11.0          1.1M  \n",
       "12811          62.0       64.0          1.1M  \n",
       "13508          11.0        7.0          1.1M  \n",
       "14054           7.0        6.0          1.1M  \n",
       "14199          12.0        8.0          1.1M  \n",
       "14218           9.0        8.0          1.1M  \n",
       "14705          10.0       11.0          1.1M  \n",
       "14786          12.0        7.0          1.1M  \n",
       "14915          13.0        8.0          1.1M  \n",
       "15356          13.0       11.0          1.1M  \n",
       "15643          13.0       11.0          1.1M  \n",
       "15652          14.0       11.0          1.1M  \n",
       "15855           5.0        7.0          1.1M  \n",
       "15864          63.0       60.0          1.1M  \n",
       "15884           6.0       13.0          1.1M  \n",
       "16135          13.0       10.0          1.1M  \n",
       "16265           5.0        6.0          1.1M  \n",
       "16450          57.0       60.0          1.1M  \n",
       "16499          11.0       10.0          1.1M  \n",
       "16539           6.0       12.0          1.1M  \n",
       "16793          15.0        9.0          1.1M  \n",
       "16903          14.0       14.0          1.1M  \n",
       "16976          14.0        8.0          1.1M  \n",
       "17129          10.0       16.0          1.1M  \n",
       "17197          59.0       53.0          1.1M  \n",
       "17339           9.0       10.0          1.1M  \n",
       "17436          11.0       11.0          1.1M  \n",
       "17539          14.0        8.0          1.1M  \n",
       "\n",
       "[30 rows x 88 columns]"
      ]
     },
     "execution_count": 68,
     "metadata": {},
     "output_type": "execute_result"
    }
   ],
   "source": [
    "indian_players = df[df['Nationality'] == 'India']\n",
    "indian_players"
   ]
  }
 ],
 "metadata": {
  "kernelspec": {
   "display_name": "Python [conda env:base] *",
   "language": "python",
   "name": "conda-base-py"
  },
  "language_info": {
   "codemirror_mode": {
    "name": "ipython",
    "version": 3
   },
   "file_extension": ".py",
   "mimetype": "text/x-python",
   "name": "python",
   "nbconvert_exporter": "python",
   "pygments_lexer": "ipython3",
   "version": "3.12.7"
  }
 },
 "nbformat": 4,
 "nbformat_minor": 5
}
